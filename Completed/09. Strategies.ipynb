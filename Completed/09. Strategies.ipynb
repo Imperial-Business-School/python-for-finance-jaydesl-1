{
 "cells": [
  {
   "attachments": {},
   "cell_type": "markdown",
   "metadata": {},
   "source": [
    "# Trading Strategies\n",
    "\n",
    "Let's start with a classic and simple trading strategy: the moving average crossover. The idea behind this strategy is to buy a stock when its fast simple moving average (SMA) crosses above its slow SMA and to short it when the fast SMA crosses below the slow SMA.\n",
    "\n",
    "Let's start with our imports in the cell below, and preparing our data frame in the cell below that."
   ]
  },
  {
   "cell_type": "code",
   "execution_count": 287,
   "metadata": {},
   "outputs": [],
   "source": [
    "import pandas as pd\n",
    "import numpy as np\n",
    "import matplotlib.pyplot as plt\n",
    "\n",
    "plt.style.use(\"ggplot\")"
   ]
  },
  {
   "cell_type": "markdown",
   "metadata": {},
   "source": [
    "This time we'll fetch our data directly from yfinance."
   ]
  },
  {
   "cell_type": "code",
   "execution_count": 1,
   "metadata": {},
   "outputs": [
    {
     "name": "stderr",
     "output_type": "stream",
     "text": [
      "/tmp/ipykernel_9351/2929206552.py:3: FutureWarning: YF.download() has changed argument auto_adjust default to True\n",
      "  df = yf.download(\"JPM\",start=\"2025-01-01\")\n",
      "[*********************100%***********************]  1 of 1 completed\n"
     ]
    },
    {
     "data": {
      "application/vnd.microsoft.datawrangler.viewer.v0+json": {
       "columns": [
        {
         "name": "Date",
         "rawType": "datetime64[ns]",
         "type": "datetime"
        },
        {
         "name": "('Close', 'JPM')",
         "rawType": "float64",
         "type": "float"
        },
        {
         "name": "('High', 'JPM')",
         "rawType": "float64",
         "type": "float"
        },
        {
         "name": "('Low', 'JPM')",
         "rawType": "float64",
         "type": "float"
        },
        {
         "name": "('Open', 'JPM')",
         "rawType": "float64",
         "type": "float"
        },
        {
         "name": "('Volume', 'JPM')",
         "rawType": "int64",
         "type": "integer"
        }
       ],
       "ref": "6d145cd3-3bdb-4002-b6be-a123aa3bf2a0",
       "rows": [
        [
         "2025-01-02 00:00:00",
         "237.30517578125",
         "240.54834530993054",
         "236.76134840259328",
         "238.21484381124998",
         "9220900"
        ],
        [
         "2025-01-03 00:00:00",
         "240.54833984375",
         "242.130380347991",
         "237.5622455585369",
         "241.15149108865305",
         "9491100"
        ],
        [
         "2025-01-06 00:00:00",
         "239.3755645751953",
         "244.1859313037164",
         "239.10721322157204",
         "242.20810827543232",
         "9917800"
        ],
        [
         "2025-01-07 00:00:00",
         "241.6813507080078",
         "243.75855242581702",
         "239.42524303513548",
         "240.65765741491037",
         "8753400"
        ],
        [
         "2025-01-08 00:00:00",
         "241.6416015625",
         "242.75474024725352",
         "239.0276971523622",
         "241.263923009297",
         "8675300"
        ],
        [
         "2025-01-10 00:00:00",
         "238.40155029296875",
         "242.31743268472198",
         "237.27847828035397",
         "241.60183919357027",
         "10256800"
        ],
        [
         "2025-01-13 00:00:00",
         "242.71499633789062",
         "243.0429627908495",
         "237.53688436167548",
         "238.20278092058467",
         "10005300"
        ],
        [
         "2025-01-14 00:00:00",
         "245.9550323486328",
         "246.20350189154246",
         "240.70735681561123",
         "241.17448076951155",
         "12407400"
        ],
        [
         "2025-01-15 00:00:00",
         "250.80516052246094",
         "252.11707181174643",
         "242.1882235029198",
         "248.8670859721294",
         "18448500"
        ],
        [
         "2025-01-16 00:00:00",
         "252.71340942382812",
         "255.46645623253497",
         "250.78528332550556",
         "252.4450580685519",
         "15292300"
        ],
        [
         "2025-01-17 00:00:00",
         "257.573486328125",
         "259.0245400547025",
         "250.5964568909223",
         "252.58421335556525",
         "17678100"
        ],
        [
         "2025-01-21 00:00:00",
         "261.4197692871094",
         "262.6323018466134",
         "257.9113806213668",
         "258.4778984477774",
         "13712100"
        ],
        [
         "2025-01-22 00:00:00",
         "261.2309265136719",
         "261.7676292015455",
         "258.6567857723807",
         "261.2905567755741",
         "9021900"
        ],
        [
         "2025-01-23 00:00:00",
         "264.3219299316406",
         "265.22633243853437",
         "262.19501594031266",
         "263.069633644008",
         "10749700"
        ],
        [
         "2025-01-24 00:00:00",
         "263.21868896484375",
         "265.46486331834507",
         "261.39990527266883",
         "262.07573514391106",
         "7666300"
        ],
        [
         "2025-01-27 00:00:00",
         "264.2225341796875",
         "264.34179471466797",
         "260.6545149646572",
         "262.55282602844756",
         "7522300"
        ],
        [
         "2025-01-28 00:00:00",
         "265.504638671875",
         "265.69344762683505",
         "263.2087521103164",
         "264.22252729273976",
         "7375400"
        ],
        [
         "2025-01-29 00:00:00",
         "264.9480285644531",
         "269.0229351176284",
         "263.98396552868303",
         "265.574176662941",
         "7684900"
        ],
        [
         "2025-01-30 00:00:00",
         "266.58795166015625",
         "268.048953778913",
         "264.9877920392538",
         "266.98549686081526",
         "8753500"
        ],
        [
         "2025-01-31 00:00:00",
         "265.66363525390625",
         "269.1621059891946",
         "265.3257202998397",
         "267.58184326396173",
         "7196300"
        ],
        [
         "2025-02-03 00:00:00",
         "265.1766357421875",
         "266.528325843888",
         "260.0979327827093",
         "260.2271114687441",
         "8381400"
        ],
        [
         "2025-02-04 00:00:00",
         "266.2997131347656",
         "268.18807554792284",
         "265.19649261959887",
         "268.18807554792284",
         "5626000"
        ],
        [
         "2025-02-05 00:00:00",
         "268.77447509765625",
         "268.9832113583836",
         "266.687324805673",
         "267.263791148507",
         "5704400"
        ],
        [
         "2025-02-06 00:00:00",
         "275.2048645019531",
         "275.2843917423059",
         "269.5298285346734",
         "270.7821247588098",
         "7264400"
        ],
        [
         "2025-02-07 00:00:00",
         "274.1116027832031",
         "276.8447679065448",
         "273.0282791558239",
         "275.57260498963785",
         "6857900"
        ],
        [
         "2025-02-10 00:00:00",
         "269.3807373046875",
         "274.48925512955987",
         "267.93960188144194",
         "274.45943999883946",
         "8627400"
        ],
        [
         "2025-02-11 00:00:00",
         "273.3065490722656",
         "274.5290301440595",
         "268.0091917560016",
         "268.6055247259195",
         "7196400"
        ],
        [
         "2025-02-12 00:00:00",
         "273.7637634277344",
         "274.75764163174756",
         "271.5772192466031",
         "272.40212481040146",
         "6683900"
        ],
        [
         "2025-02-13 00:00:00",
         "274.62841796875",
         "275.27443270076105",
         "272.13377410385283",
         "273.81343060553405",
         "8398700"
        ],
        [
         "2025-02-14 00:00:00",
         "274.8967590332031",
         "277.52061195725855",
         "274.7576318615815",
         "275.67198279153683",
         "5688600"
        ],
        [
         "2025-02-18 00:00:00",
         "278.2362060546875",
         "278.2560726990323",
         "274.3302417919727",
         "275.0657322632962",
         "7919800"
        ],
        [
         "2025-02-19 00:00:00",
         "277.5404968261719",
         "278.53437506010624",
         "275.52292522451535",
         "276.67582761557003",
         "7007200"
        ],
        [
         "2025-02-20 00:00:00",
         "265.16668701171875",
         "277.033594939602",
         "264.11317856451853",
         "276.9739646751005",
         "13846700"
        ],
        [
         "2025-02-21 00:00:00",
         "262.62237548828125",
         "267.55203337911627",
         "261.2309520234313",
         "266.67741567813727",
         "12835600"
        ],
        [
         "2025-02-24 00:00:00",
         "259.7401123046875",
         "265.3654662782158",
         "257.02681403378256",
         "263.86470056458387",
         "10372800"
        ],
        [
         "2025-02-25 00:00:00",
         "255.82423400878906",
         "261.3899578077281",
         "251.7990395664852",
         "260.6246825385414",
         "9608400"
        ],
        [
         "2025-02-26 00:00:00",
         "257.20574951171875",
         "259.3127664562417",
         "255.35712027593058",
         "255.58572318246124",
         "5943600"
        ],
        [
         "2025-02-27 00:00:00",
         "257.4641418457031",
         "262.0260695858289",
         "256.28142433244926",
         "258.58722909196575",
         "8204400"
        ],
        [
         "2025-02-28 00:00:00",
         "263.02984619140625",
         "263.18887033501215",
         "256.3112505258936",
         "259.1338608307014",
         "10467100"
        ],
        [
         "2025-03-03 00:00:00",
         "259.0245361328125",
         "264.689654103572",
         "256.2416892567501",
         "262.3838493601168",
         "9058300"
        ],
        [
         "2025-03-04 00:00:00",
         "248.718017578125",
         "255.6552982781972",
         "244.44433831893184",
         "253.7172236712603",
         "13465600"
        ],
        [
         "2025-03-05 00:00:00",
         "249.99017333984375",
         "251.50087239520067",
         "246.3128271666759",
         "249.71188866719606",
         "7861400"
        ],
        [
         "2025-03-06 00:00:00",
         "245.0307159423828",
         "247.83345964495982",
         "242.3571964194568",
         "246.59111193964247",
         "9983200"
        ],
        [
         "2025-03-07 00:00:00",
         "240.7967987060547",
         "245.20962015035235",
         "237.95430656993176",
         "243.72873623663241",
         "20498700"
        ],
        [
         "2025-03-10 00:00:00",
         "230.79840087890625",
         "236.05600997666537",
         "227.29994530703334",
         "234.76398042623",
         "18887200"
        ],
        [
         "2025-03-11 00:00:00",
         "227.73724365234375",
         "231.8916622959661",
         "225.30224516480106",
         "230.33126628704596",
         "18143000"
        ],
        [
         "2025-03-12 00:00:00",
         "226.5048370361328",
         "232.88554846291444",
         "225.86875559103464",
         "232.5675001576764",
         "16054000"
        ],
        [
         "2025-03-13 00:00:00",
         "223.81143188476562",
         "228.0950444543765",
         "222.85730215022951",
         "227.8962718495833",
         "16467900"
        ],
        [
         "2025-03-14 00:00:00",
         "231.0170440673828",
         "231.71275575272347",
         "226.18679555862144",
         "226.723483097205",
         "11962100"
        ],
        [
         "2025-03-17 00:00:00",
         "232.49790954589844",
         "234.22726299532854",
         "229.0491662998078",
         "229.76474461934126",
         "9586000"
        ]
       ],
       "shape": {
        "columns": 5,
        "rows": 115
       }
      },
      "text/html": [
       "<div>\n",
       "<style scoped>\n",
       "    .dataframe tbody tr th:only-of-type {\n",
       "        vertical-align: middle;\n",
       "    }\n",
       "\n",
       "    .dataframe tbody tr th {\n",
       "        vertical-align: top;\n",
       "    }\n",
       "\n",
       "    .dataframe thead tr th {\n",
       "        text-align: left;\n",
       "    }\n",
       "\n",
       "    .dataframe thead tr:last-of-type th {\n",
       "        text-align: right;\n",
       "    }\n",
       "</style>\n",
       "<table border=\"1\" class=\"dataframe\">\n",
       "  <thead>\n",
       "    <tr>\n",
       "      <th>Price</th>\n",
       "      <th>Close</th>\n",
       "      <th>High</th>\n",
       "      <th>Low</th>\n",
       "      <th>Open</th>\n",
       "      <th>Volume</th>\n",
       "    </tr>\n",
       "    <tr>\n",
       "      <th>Ticker</th>\n",
       "      <th>JPM</th>\n",
       "      <th>JPM</th>\n",
       "      <th>JPM</th>\n",
       "      <th>JPM</th>\n",
       "      <th>JPM</th>\n",
       "    </tr>\n",
       "    <tr>\n",
       "      <th>Date</th>\n",
       "      <th></th>\n",
       "      <th></th>\n",
       "      <th></th>\n",
       "      <th></th>\n",
       "      <th></th>\n",
       "    </tr>\n",
       "  </thead>\n",
       "  <tbody>\n",
       "    <tr>\n",
       "      <th>2025-01-02</th>\n",
       "      <td>237.305176</td>\n",
       "      <td>240.548345</td>\n",
       "      <td>236.761348</td>\n",
       "      <td>238.214844</td>\n",
       "      <td>9220900</td>\n",
       "    </tr>\n",
       "    <tr>\n",
       "      <th>2025-01-03</th>\n",
       "      <td>240.548340</td>\n",
       "      <td>242.130380</td>\n",
       "      <td>237.562246</td>\n",
       "      <td>241.151491</td>\n",
       "      <td>9491100</td>\n",
       "    </tr>\n",
       "    <tr>\n",
       "      <th>2025-01-06</th>\n",
       "      <td>239.375565</td>\n",
       "      <td>244.185931</td>\n",
       "      <td>239.107213</td>\n",
       "      <td>242.208108</td>\n",
       "      <td>9917800</td>\n",
       "    </tr>\n",
       "    <tr>\n",
       "      <th>2025-01-07</th>\n",
       "      <td>241.681351</td>\n",
       "      <td>243.758552</td>\n",
       "      <td>239.425243</td>\n",
       "      <td>240.657657</td>\n",
       "      <td>8753400</td>\n",
       "    </tr>\n",
       "    <tr>\n",
       "      <th>2025-01-08</th>\n",
       "      <td>241.641602</td>\n",
       "      <td>242.754740</td>\n",
       "      <td>239.027697</td>\n",
       "      <td>241.263923</td>\n",
       "      <td>8675300</td>\n",
       "    </tr>\n",
       "    <tr>\n",
       "      <th>...</th>\n",
       "      <td>...</td>\n",
       "      <td>...</td>\n",
       "      <td>...</td>\n",
       "      <td>...</td>\n",
       "      <td>...</td>\n",
       "    </tr>\n",
       "    <tr>\n",
       "      <th>2025-06-12</th>\n",
       "      <td>268.239990</td>\n",
       "      <td>268.290009</td>\n",
       "      <td>265.140015</td>\n",
       "      <td>266.859985</td>\n",
       "      <td>6618000</td>\n",
       "    </tr>\n",
       "    <tr>\n",
       "      <th>2025-06-13</th>\n",
       "      <td>264.950012</td>\n",
       "      <td>267.019989</td>\n",
       "      <td>262.709991</td>\n",
       "      <td>265.079987</td>\n",
       "      <td>7098300</td>\n",
       "    </tr>\n",
       "    <tr>\n",
       "      <th>2025-06-16</th>\n",
       "      <td>270.359985</td>\n",
       "      <td>271.730011</td>\n",
       "      <td>266.850006</td>\n",
       "      <td>267.000000</td>\n",
       "      <td>8566000</td>\n",
       "    </tr>\n",
       "    <tr>\n",
       "      <th>2025-06-17</th>\n",
       "      <td>269.519989</td>\n",
       "      <td>270.589996</td>\n",
       "      <td>267.799988</td>\n",
       "      <td>268.170013</td>\n",
       "      <td>6739300</td>\n",
       "    </tr>\n",
       "    <tr>\n",
       "      <th>2025-06-18</th>\n",
       "      <td>273.959991</td>\n",
       "      <td>277.720001</td>\n",
       "      <td>269.720001</td>\n",
       "      <td>270.000000</td>\n",
       "      <td>9586400</td>\n",
       "    </tr>\n",
       "  </tbody>\n",
       "</table>\n",
       "<p>115 rows × 5 columns</p>\n",
       "</div>"
      ],
      "text/plain": [
       "Price            Close        High         Low        Open   Volume\n",
       "Ticker             JPM         JPM         JPM         JPM      JPM\n",
       "Date                                                               \n",
       "2025-01-02  237.305176  240.548345  236.761348  238.214844  9220900\n",
       "2025-01-03  240.548340  242.130380  237.562246  241.151491  9491100\n",
       "2025-01-06  239.375565  244.185931  239.107213  242.208108  9917800\n",
       "2025-01-07  241.681351  243.758552  239.425243  240.657657  8753400\n",
       "2025-01-08  241.641602  242.754740  239.027697  241.263923  8675300\n",
       "...                ...         ...         ...         ...      ...\n",
       "2025-06-12  268.239990  268.290009  265.140015  266.859985  6618000\n",
       "2025-06-13  264.950012  267.019989  262.709991  265.079987  7098300\n",
       "2025-06-16  270.359985  271.730011  266.850006  267.000000  8566000\n",
       "2025-06-17  269.519989  270.589996  267.799988  268.170013  6739300\n",
       "2025-06-18  273.959991  277.720001  269.720001  270.000000  9586400\n",
       "\n",
       "[115 rows x 5 columns]"
      ]
     },
     "execution_count": 1,
     "metadata": {},
     "output_type": "execute_result"
    }
   ],
   "source": [
    "import yfinance as yf\n",
    "\n",
    "df = yf.download(\"JPM\",start=\"2025-01-01\")\n",
    "df\n",
    "\n",
    "#df.columns = df.columns.droplevel(1) # To get rid of the Multi index\n",
    "df\n",
    "## The manual way\n",
    "# df = pd.read_csv(\"data/JPM_data.csv\")\n",
    "# df[\"Date\"] = pd.to_datetime(df[\"Date\"])\n",
    "# df = df.set_index(\"Date\").sort_index().drop_duplicates()\n"
   ]
  },
  {
   "attachments": {},
   "cell_type": "markdown",
   "metadata": {},
   "source": [
    "## Compute and Plot SMAs\n",
    "\n",
    "Before we can implement our strategy, we need to calculate the fast (short-term) and slow (long-term) SMAs. For this example, we'll use 20-day and 50-day SMAs."
   ]
  },
  {
   "cell_type": "code",
   "execution_count": 289,
   "metadata": {},
   "outputs": [],
   "source": [
    "fast = 5\n",
    "slow = 10\n",
    "\n",
    "df[\"FastSMA\"] = df.Close.rolling(window=fast).mean()\n",
    "df[\"SlowSMA\"] = df.Close.rolling(window=slow).mean()\n",
    "df"
   ]
  },
  {
   "attachments": {},
   "cell_type": "markdown",
   "metadata": {},
   "source": [
    "\n",
    "Remember we'll have a window-length of NaNs in our data frame. This is because we don't have enough data points to calculate an N-day moving average until the Nth day. \n",
    "Let's plot the closing price with the SMAs to visually inspect the crossover points."
   ]
  },
  {
   "cell_type": "code",
   "execution_count": 290,
   "metadata": {},
   "outputs": [],
   "source": [
    "plt.figure(figsize=(14, 7))\n",
    "plt.plot(df.Close, label='Close Price')\n",
    "\n",
    "# There are some ideas about colours of lines\n",
    "# eye-catching for the fast, and more mellow for the slow\n",
    "plt.plot(df.SlowSMA, label=f\"{slow}-day SMA\", color=\"darkseagreen\")\n",
    "plt.plot(df.FastSMA, label=f\"{fast}-day SMA\", color=\"royalblue\")\n",
    "plt.legend()\n",
    "plt.title('Close Price with SMAs')\n",
    "plt.show()"
   ]
  },
  {
   "attachments": {},
   "cell_type": "markdown",
   "metadata": {},
   "source": [
    "## The Crossover\n",
    "\n",
    "To determine the crossover points, we will create a new column signal which will contain 1 for buy signals (when the fast SMA is above the slow SMA) and -1 for sell signals. Because we are in a *wait* position while we *wait* for the 200-day SMA to kick-in, we'll fill the Signal column with 0 for those rows. We'll use `where()` for both of these."
   ]
  },
  {
   "cell_type": "code",
   "execution_count": 291,
   "metadata": {},
   "outputs": [],
   "source": [
    "# np.where() is great to generate signals based on the position of the lines\n",
    "df[\"Signal\"] = np.where(df.FastSMA > df.SlowSMA, 1, -1)\n",
    "df.Signal = np.where(df.SlowSMA.isna(), 0, df.Signal)\n",
    "df"
   ]
  },
  {
   "attachments": {},
   "cell_type": "markdown",
   "metadata": {},
   "source": [
    "### Exercise: Blink and you'll miss it\n",
    "\n",
    "Can you identify on which dates we had a crossover?"
   ]
  },
  {
   "cell_type": "code",
   "execution_count": 292,
   "metadata": {},
   "outputs": [],
   "source": [
    "## YOUR CODE GOES HERE"
   ]
  },
  {
   "attachments": {},
   "cell_type": "markdown",
   "metadata": {},
   "source": [
    "## Backtesting\n",
    "\n",
    "Backtesting is the process of testing a trading strategy on relevant historical data. We can calculate how it would have performed, had it been applied in the past. The simplest backtest calculates the returns that would have been realised if the strategy was implemented.\n",
    "\n",
    "First, we create a new column with the signal from the previous day. When we backtest, we have to imagine we're trading in real time. Since our signals are based on close prices, we won't be able to act on them until the following day when the market re-opens. Failing to do this is called *look-ahead bias*."
   ]
  },
  {
   "cell_type": "code",
   "execution_count": 293,
   "metadata": {},
   "outputs": [],
   "source": [
    "# Take a look at the day we generated the buy signal\n",
    "# When could we have acted on it?\n",
    "print(df.loc[\"2020-10-16\":\"2020-10-21\"])\n",
    "\n",
    "# Shift down to avoid look-ahead bias\n",
    "df['Position'] = df.Signal.shift(1)\n",
    "df"
   ]
  },
  {
   "attachments": {},
   "cell_type": "markdown",
   "metadata": {},
   "source": [
    "Next we calculate the market daily returns normally using `pct_change()`. We then calculate our strategy returns by multiplying our buy/sell position with the market returns. Here is how it works:\n",
    "\n",
    "- On days when the market gains (+ market return)\n",
    "    - In the buy position (+) , our strategy gains\n",
    "    - In the sell position (-), our strategy loses\n",
    "- On days when the market loses (- market return)\n",
    "    - In the buy position (+), our strategy loses\n",
    "    - In the sell position (-), our strategy gains"
   ]
  },
  {
   "cell_type": "code",
   "execution_count": 294,
   "metadata": {},
   "outputs": [],
   "source": [
    "# Calculating the daily market return (or a buy and hold strategy)\n",
    "df[\"MarketDaily\"] = df.Close.pct_change()\n",
    "\n",
    "# Calculating the daily return of our crossover strategy\n",
    "df[\"StrategyDaily\"] = df.Position * df.MarketDaily\n",
    "\n",
    "df"
   ]
  },
  {
   "attachments": {},
   "cell_type": "markdown",
   "metadata": {},
   "source": [
    "To determine if our strategy would profit or lose, we can calculate the cumulative returns of our strategy for the period. We can then compare it to a *buy & hold* strategy (where we buy at the start of the period and sell at the end), which is represented as the cumulative market returns."
   ]
  },
  {
   "cell_type": "code",
   "execution_count": 295,
   "metadata": {},
   "outputs": [],
   "source": [
    "df[\"MarketReturn\"] = (1 + df.MarketDaily).cumprod() - 1\n",
    "df[\"StrategyReturn\"] = (1 + df.StrategyDaily).cumprod() - 1\n",
    "\n",
    "df.tail()"
   ]
  },
  {
   "attachments": {},
   "cell_type": "markdown",
   "metadata": {},
   "source": [
    "Let's plot these for a visual representation."
   ]
  },
  {
   "cell_type": "code",
   "execution_count": 296,
   "metadata": {},
   "outputs": [],
   "source": [
    "plt.figure(figsize=(10, 5))\n",
    "plt.plot(df.MarketReturn, label=\"Market Returns\")\n",
    "plt.plot(df.StrategyReturn, label=\"Strategy Returns\")\n",
    "plt.legend()\n",
    "plt.title(\"Cumulative Returns of Market vs Strategy\")\n",
    "plt.show()"
   ]
  }
 ],
 "metadata": {
  "kernelspec": {
   "display_name": "Python 3",
   "language": "python",
   "name": "python3"
  },
  "language_info": {
   "codemirror_mode": {
    "name": "ipython",
    "version": 3
   },
   "file_extension": ".py",
   "mimetype": "text/x-python",
   "name": "python",
   "nbconvert_exporter": "python",
   "pygments_lexer": "ipython3",
   "version": "3.12.1"
  }
 },
 "nbformat": 4,
 "nbformat_minor": 2
}
