{
 "cells": [
  {
   "attachments": {},
   "cell_type": "markdown",
   "metadata": {},
   "source": [
    "# Reshaping\n",
    "\n",
    "We've now seen some of the benefits of panel data, and how we can take advantage of pandas to manipulate it and get some insights. Sometimes though we'll need to reshape our data to work with it more easily."
   ]
  },
  {
   "cell_type": "code",
   "execution_count": 3,
   "metadata": {},
   "outputs": [
    {
     "name": "stdout",
     "output_type": "stream",
     "text": [
      "Missing data after cleaning 0\n",
      "Checking for duplicates, which we forgot to do previously! 2\n"
     ]
    }
   ],
   "source": [
    "import pandas as pd\n",
    "import numpy as np\n",
    "\n",
    "# Load the data\n",
    "df = pd.read_csv(\"data/sp500_q1_2025.csv\")\n",
    "\n",
    "# Convert 'datadate' to datetime\n",
    "df.DlyCalDt = pd.to_datetime(df.DlyCalDt)\n",
    "\n",
    "# Data cleaning as we did previously\n",
    "df.dropna(inplace=True)\n",
    "\n",
    "print(\"Missing data after cleaning\", df.isnull().sum().sum())\n",
    "\n",
    "# Handling duplicates\n",
    "print(\"Checking for duplicates, which we forgot to do previously!\", df.duplicated().sum())\n",
    "\n",
    "df.drop_duplicates(inplace=True)\n"
   ]
  },
  {
   "attachments": {},
   "cell_type": "markdown",
   "metadata": {},
   "source": [
    "## Pivot\n",
    "\n",
    "`pivot` helps us reshape *long* panel data into a *wide* data frame. We can use it to have each stock in a separate column and dates in the rows. We can only have one column substituted in as the values of the data frame, so choose carefully."
   ]
  },
  {
   "cell_type": "code",
   "execution_count": null,
   "metadata": {},
   "outputs": [],
   "source": [
    "df.shape\n",
    "pivot_df = df.pivot(index=\"DlyCalDt\", columns=\"SecurityNm\", values=\"DlyClose\")\n",
    "pivot_df.loc[\"2025-02\"]"
   ]
  },
  {
   "cell_type": "code",
   "execution_count": null,
   "metadata": {},
   "outputs": [],
   "source": [
    "pivot_df.isnull().sum().sum()\n",
    "pivot_df[\"MCCORMICK & CO INC; COM V; CONS\"] = pivot_df[\"MCCORMICK & CO INC; COM V; CONS\"].ffill()\n",
    "pivot_df.dropna(axis=1, inplace=True)\n",
    "missing = pivot_df.isnull().sum()\n",
    "missing[missing > 0]"
   ]
  },
  {
   "attachments": {},
   "cell_type": "markdown",
   "metadata": {},
   "source": [
    "We generally favour returns over close prices, as they give us a better picture of relative performance. Because our data frame is only holding close prices, it is straightforward to calculate returns."
   ]
  },
  {
   "cell_type": "code",
   "execution_count": null,
   "metadata": {},
   "outputs": [],
   "source": [
    "pivot_df.pct_change().mean()"
   ]
  },
  {
   "attachments": {},
   "cell_type": "markdown",
   "metadata": {},
   "source": [
    "The other really neat thing we can do with this kind of pivoted dataframe is visualise correlations with ease."
   ]
  },
  {
   "cell_type": "code",
   "execution_count": null,
   "metadata": {},
   "outputs": [],
   "source": [
    "pivot_df.pct_change().corr()"
   ]
  },
  {
   "attachments": {},
   "cell_type": "markdown",
   "metadata": {},
   "source": [
    "### Exercise: Trading Top Ten\n",
    "\n",
    "Pivot our panel data, this time using trading volume `DlyVol` for values. Find the max trading volume for each stock and display the top 10."
   ]
  },
  {
   "cell_type": "code",
   "execution_count": null,
   "metadata": {},
   "outputs": [],
   "source": [
    "volume_pivot = df.pivot(index=\"DlyCalDt\", columns=\"SecurityNm\", values=\"DlyVol\")\n",
    "volume_pivot.max().nlargest(10)"
   ]
  },
  {
   "attachments": {},
   "cell_type": "markdown",
   "metadata": {},
   "source": [
    "## Resample\n",
    "\n",
    "The other kind of reshaping we can do is called *resampling*, which we use to change the frequency of our data. When we resample, we are generally expected to do some aggregation (but we don't have to). Let's resample our pivoted data to get the mean closing price for each month."
   ]
  },
  {
   "cell_type": "code",
   "execution_count": null,
   "metadata": {},
   "outputs": [
    {
     "data": {
      "application/vnd.microsoft.datawrangler.viewer.v0+json": {
       "columns": [
        {
         "name": "DlyCalDt",
         "rawType": "datetime64[ns]",
         "type": "datetime"
        },
        {
         "name": "3M CO; COM NONE; CONS",
         "rawType": "float64",
         "type": "float"
        },
        {
         "name": "A E S CORP; COM NONE; CONS",
         "rawType": "float64",
         "type": "float"
        },
        {
         "name": "A P A CORP; COM NONE; CONS",
         "rawType": "float64",
         "type": "float"
        },
        {
         "name": "A T & T INC; COM NONE; CONS",
         "rawType": "float64",
         "type": "float"
        },
        {
         "name": "ABBOTT LABORATORIES; COM NONE; CONS",
         "rawType": "float64",
         "type": "float"
        },
        {
         "name": "ABBVIE INC; COM NONE; CONS",
         "rawType": "float64",
         "type": "float"
        },
        {
         "name": "ACCENTURE PLC IRELAND; COM A; CONS",
         "rawType": "float64",
         "type": "float"
        },
        {
         "name": "ADOBE INC; COM NONE; CONS",
         "rawType": "float64",
         "type": "float"
        },
        {
         "name": "ADVANCED MICRO DEVICES INC; COM NONE; CONS",
         "rawType": "float64",
         "type": "float"
        },
        {
         "name": "AFLAC INC; COM NONE; CONS",
         "rawType": "float64",
         "type": "float"
        },
        {
         "name": "AGILENT TECHNOLOGIES INC; COM NONE; CONS",
         "rawType": "float64",
         "type": "float"
        },
        {
         "name": "AIR PRODUCTS & CHEMICALS INC; COM NONE; CONS",
         "rawType": "float64",
         "type": "float"
        },
        {
         "name": "AIRBNB INC; COM A; CONS",
         "rawType": "float64",
         "type": "float"
        },
        {
         "name": "AKAMAI TECHNOLOGIES INC; COM NONE; CONS",
         "rawType": "float64",
         "type": "float"
        },
        {
         "name": "ALASKA AIRGROUP INC; COM NONE; CONS",
         "rawType": "float64",
         "type": "float"
        },
        {
         "name": "ALBEMARLE CORP; COM NONE; CONS",
         "rawType": "float64",
         "type": "float"
        },
        {
         "name": "ALEXANDRIA REAL EST EQUITIES INC; COM NONE; CONS",
         "rawType": "float64",
         "type": "float"
        },
        {
         "name": "ALIGN TECHNOLOGY INC; COM NONE; CONS",
         "rawType": "float64",
         "type": "float"
        },
        {
         "name": "ALLEGION PLC; COM NONE; CONS",
         "rawType": "float64",
         "type": "float"
        },
        {
         "name": "ALLIANT ENERGY CORP; COM NONE; CONS",
         "rawType": "float64",
         "type": "float"
        },
        {
         "name": "ALLSTATE CORP; COM NONE; CONS",
         "rawType": "float64",
         "type": "float"
        },
        {
         "name": "ALPHABET INC; COM A; CONS",
         "rawType": "float64",
         "type": "float"
        },
        {
         "name": "ALPHABET INC; COM C; CONS",
         "rawType": "float64",
         "type": "float"
        },
        {
         "name": "ALTRIA GROUP INC; COM NONE; CONS",
         "rawType": "float64",
         "type": "float"
        },
        {
         "name": "AMAZON COM INC; COM NONE; CONS",
         "rawType": "float64",
         "type": "float"
        },
        {
         "name": "AMCOR PLC; COM NONE; CONS",
         "rawType": "float64",
         "type": "float"
        },
        {
         "name": "AMEREN CORP; COM NONE; CONS",
         "rawType": "float64",
         "type": "float"
        },
        {
         "name": "AMERICAN AIRLINES GROUP INC; COM NONE; CONS",
         "rawType": "float64",
         "type": "float"
        },
        {
         "name": "AMERICAN ELECTRIC POWER CO INC; COM NONE; CONS",
         "rawType": "float64",
         "type": "float"
        },
        {
         "name": "AMERICAN EXPRESS CO; COM NONE; CONS",
         "rawType": "float64",
         "type": "float"
        },
        {
         "name": "AMERICAN INTERNATIONAL GROUP INC; COM NONE; CONS",
         "rawType": "float64",
         "type": "float"
        },
        {
         "name": "AMERICAN TOWER CORP NEW; COM A; CONS",
         "rawType": "float64",
         "type": "float"
        },
        {
         "name": "AMERICAN WATER WORKS CO INC; COM NONE; CONS",
         "rawType": "float64",
         "type": "float"
        },
        {
         "name": "AMERIPRISE FINANCIAL INC; COM NONE; CONS",
         "rawType": "float64",
         "type": "float"
        },
        {
         "name": "AMETEK INC NEW; COM NONE; CONS",
         "rawType": "float64",
         "type": "float"
        },
        {
         "name": "AMGEN INC; COM NONE; CONS",
         "rawType": "float64",
         "type": "float"
        },
        {
         "name": "AMPHENOL CORP NEW; COM A; CONS",
         "rawType": "float64",
         "type": "float"
        },
        {
         "name": "ANALOG DEVICES INC; COM NONE; CONS",
         "rawType": "float64",
         "type": "float"
        },
        {
         "name": "ANSYS INC; COM NONE; CONS",
         "rawType": "float64",
         "type": "float"
        },
        {
         "name": "AON PLC NEW; COM A; CONS",
         "rawType": "float64",
         "type": "float"
        },
        {
         "name": "APPLE INC; COM NONE; CONS",
         "rawType": "float64",
         "type": "float"
        },
        {
         "name": "APPLIED MATERIALS INC; COM NONE; CONS",
         "rawType": "float64",
         "type": "float"
        },
        {
         "name": "APTIV PLC NEW; COM NONE; CONS",
         "rawType": "float64",
         "type": "float"
        },
        {
         "name": "ARCH CAPITAL GROUP LTD NEW; COM NONE; CONS",
         "rawType": "float64",
         "type": "float"
        },
        {
         "name": "ARCHER DANIELS MIDLAND CO; COM NONE; CONS",
         "rawType": "float64",
         "type": "float"
        },
        {
         "name": "ARISTA NETWORKS INC; COM NONE; CONS",
         "rawType": "float64",
         "type": "float"
        },
        {
         "name": "ASSURANT INC; COM NONE; CONS",
         "rawType": "float64",
         "type": "float"
        },
        {
         "name": "ATMOS ENERGY CORP; COM NONE; CONS",
         "rawType": "float64",
         "type": "float"
        },
        {
         "name": "AUTODESK INC; COM NONE; CONS",
         "rawType": "float64",
         "type": "float"
        },
        {
         "name": "AUTOMATIC DATA PROCESSING INC; COM NONE; CONS",
         "rawType": "float64",
         "type": "float"
        },
        {
         "name": "AUTOZONE INC; COM NONE; CONS",
         "rawType": "float64",
         "type": "float"
        },
        {
         "name": "AVALONBAY COMMUNITIES INC; COM NONE; CONS",
         "rawType": "float64",
         "type": "float"
        },
        {
         "name": "AVERY DENNISON CORP; COM NONE; CONS",
         "rawType": "float64",
         "type": "float"
        },
        {
         "name": "AXON ENTERPRISE INC; COM NONE; CONS",
         "rawType": "float64",
         "type": "float"
        },
        {
         "name": "BAKER HUGHES CO; COM A; CONS",
         "rawType": "float64",
         "type": "float"
        },
        {
         "name": "BALL CORP; COM NONE; CONS",
         "rawType": "float64",
         "type": "float"
        },
        {
         "name": "BANK OF AMERICA CORP; COM NONE; CONS",
         "rawType": "float64",
         "type": "float"
        },
        {
         "name": "BANK OF NEW YORK MELLON CORP; COM NONE; CONS",
         "rawType": "float64",
         "type": "float"
        },
        {
         "name": "BATH & BODY WORKS INC; COM NONE; CONS",
         "rawType": "float64",
         "type": "float"
        },
        {
         "name": "BAXTER INTERNATIONAL INC; COM NONE; CONS",
         "rawType": "float64",
         "type": "float"
        },
        {
         "name": "BECTON DICKINSON & CO; COM NONE; CONS",
         "rawType": "float64",
         "type": "float"
        },
        {
         "name": "BERKLEY W R CORP; COM NONE; CONS",
         "rawType": "float64",
         "type": "float"
        },
        {
         "name": "BEST BUY COMPANY INC; COM NONE; CONS",
         "rawType": "float64",
         "type": "float"
        },
        {
         "name": "BIO RAD LABORATORIES INC; COM A; CONS",
         "rawType": "float64",
         "type": "float"
        },
        {
         "name": "BIO TECHNE CORP; COM NONE; CONS",
         "rawType": "float64",
         "type": "float"
        },
        {
         "name": "BIOGEN INC; COM NONE; CONS",
         "rawType": "float64",
         "type": "float"
        },
        {
         "name": "BLACKROCK INC NEW; COM NONE; CONS",
         "rawType": "float64",
         "type": "float"
        },
        {
         "name": "BLACKSTONE INC; COM NONE; CONS",
         "rawType": "float64",
         "type": "float"
        },
        {
         "name": "BOEING CO; COM NONE; CONS",
         "rawType": "float64",
         "type": "float"
        },
        {
         "name": "BOOKING HOLDINGS INC; COM NONE; CONS",
         "rawType": "float64",
         "type": "float"
        },
        {
         "name": "BORGWARNER INC; COM NONE; CONS",
         "rawType": "float64",
         "type": "float"
        },
        {
         "name": "BOSTON SCIENTIFIC CORP; COM NONE; CONS",
         "rawType": "float64",
         "type": "float"
        },
        {
         "name": "BRISTOL MYERS SQUIBB CO; COM NONE; CONS",
         "rawType": "float64",
         "type": "float"
        },
        {
         "name": "BROADCOM INC; COM NONE; CONS",
         "rawType": "float64",
         "type": "float"
        },
        {
         "name": "BROADRIDGE FINANCIAL SOLUTNS INC; COM NONE; CONS",
         "rawType": "float64",
         "type": "float"
        },
        {
         "name": "BROWN & BROWN INC; COM NONE; CONS",
         "rawType": "float64",
         "type": "float"
        },
        {
         "name": "BUNGE GLOBAL S A; COM NONE; CONS",
         "rawType": "float64",
         "type": "float"
        },
        {
         "name": "BXP INC; COM NONE; CONS",
         "rawType": "float64",
         "type": "float"
        },
        {
         "name": "C B O E GLOBAL MARKETS INC; COM NONE; CONS",
         "rawType": "float64",
         "type": "float"
        },
        {
         "name": "C B R E GROUP INC; COM A; CONS",
         "rawType": "float64",
         "type": "float"
        },
        {
         "name": "C D W CORP NEW; COM NONE; CONS",
         "rawType": "float64",
         "type": "float"
        },
        {
         "name": "C F INDUSTRIES HOLDINGS INC; COM NONE; CONS",
         "rawType": "float64",
         "type": "float"
        },
        {
         "name": "C M E GROUP INC; COM A; CONS",
         "rawType": "float64",
         "type": "float"
        },
        {
         "name": "C M S ENERGY CORP; COM NONE; CONS",
         "rawType": "float64",
         "type": "float"
        },
        {
         "name": "C S X CORP; COM NONE; CONS",
         "rawType": "float64",
         "type": "float"
        },
        {
         "name": "C V S HEALTH CORP; COM NONE; CONS",
         "rawType": "float64",
         "type": "float"
        },
        {
         "name": "CADENCE DESIGN SYSTEMS INC; COM NONE; CONS",
         "rawType": "float64",
         "type": "float"
        },
        {
         "name": "CAESARS ENTERTAINMENT INC DE; COM NONE; CONS",
         "rawType": "float64",
         "type": "float"
        },
        {
         "name": "CAMDEN PROPERTY TRUST; COM NONE; CONS",
         "rawType": "float64",
         "type": "float"
        },
        {
         "name": "CAMPBELLS CO; COM NONE; CONS",
         "rawType": "float64",
         "type": "float"
        },
        {
         "name": "CAPITAL ONE FINANCIAL CORP; COM NONE; CONS",
         "rawType": "float64",
         "type": "float"
        },
        {
         "name": "CARDINAL HEALTH INC; COM NONE; CONS",
         "rawType": "float64",
         "type": "float"
        },
        {
         "name": "CARMAX INC; COM NONE; CONS",
         "rawType": "float64",
         "type": "float"
        },
        {
         "name": "CARNIVAL CORP; COM NONE; CONS",
         "rawType": "float64",
         "type": "float"
        },
        {
         "name": "CARRIER GLOBAL CORP; COM NONE; CONS",
         "rawType": "float64",
         "type": "float"
        },
        {
         "name": "CATERPILLAR INC; COM NONE; CONS",
         "rawType": "float64",
         "type": "float"
        },
        {
         "name": "CELANESE CORP DEL; COM NONE; CONS",
         "rawType": "float64",
         "type": "float"
        },
        {
         "name": "CENCORA INC; COM NONE; CONS",
         "rawType": "float64",
         "type": "float"
        },
        {
         "name": "CENTENE CORP DEL; COM NONE; CONS",
         "rawType": "float64",
         "type": "float"
        },
        {
         "name": "CENTERPOINT ENERGY INC; COM NONE; CONS",
         "rawType": "float64",
         "type": "float"
        },
        {
         "name": "CH ROBINSON WORLDWIDE INC; COM NONE; CONS",
         "rawType": "float64",
         "type": "float"
        },
        {
         "name": "CHARLES RIVER LABS INTL INC; COM NONE; CONS",
         "rawType": "float64",
         "type": "float"
        },
        {
         "name": "CHARTER COMMUNICATIONS INC NEW; COM A; CONS",
         "rawType": "float64",
         "type": "float"
        },
        {
         "name": "CHEVRON CORP NEW; COM NONE; CONS",
         "rawType": "float64",
         "type": "float"
        },
        {
         "name": "CHIPOTLE MEXICAN GRILL INC; COM NONE; CONS",
         "rawType": "float64",
         "type": "float"
        },
        {
         "name": "CHUBB LTD; COM NONE; CONS",
         "rawType": "float64",
         "type": "float"
        },
        {
         "name": "CHURCH & DWIGHT INC; COM NONE; CONS",
         "rawType": "float64",
         "type": "float"
        },
        {
         "name": "CIGNA GROUP; COM NONE; CONS",
         "rawType": "float64",
         "type": "float"
        },
        {
         "name": "CINCINNATI FINANCIAL CORP; COM NONE; CONS",
         "rawType": "float64",
         "type": "float"
        },
        {
         "name": "CINTAS CORP; COM NONE; CONS",
         "rawType": "float64",
         "type": "float"
        },
        {
         "name": "CISCO SYSTEMS INC; COM NONE; CONS",
         "rawType": "float64",
         "type": "float"
        },
        {
         "name": "CITIGROUP INC; COM NONE; CONS",
         "rawType": "float64",
         "type": "float"
        },
        {
         "name": "CITIZENS FINANCIAL GROUP INC; COM NONE; CONS",
         "rawType": "float64",
         "type": "float"
        },
        {
         "name": "CLOROX CO; COM NONE; CONS",
         "rawType": "float64",
         "type": "float"
        },
        {
         "name": "COCA COLA CO; COM NONE; CONS",
         "rawType": "float64",
         "type": "float"
        },
        {
         "name": "COGNIZANT TECHNOLOGY SOLS CORP; COM A; CONS",
         "rawType": "float64",
         "type": "float"
        },
        {
         "name": "COLGATE PALMOLIVE CO; COM NONE; CONS",
         "rawType": "float64",
         "type": "float"
        },
        {
         "name": "COMCAST CORP NEW; COM A; CONS",
         "rawType": "float64",
         "type": "float"
        },
        {
         "name": "COMERICA INC; COM NONE; CONS",
         "rawType": "float64",
         "type": "float"
        },
        {
         "name": "CONAGRA BRANDS INC; COM NONE; CONS",
         "rawType": "float64",
         "type": "float"
        },
        {
         "name": "CONOCOPHILLIPS; COM NONE; CONS",
         "rawType": "float64",
         "type": "float"
        },
        {
         "name": "CONSOLIDATED EDISON INC; COM NONE; CONS",
         "rawType": "float64",
         "type": "float"
        },
        {
         "name": "CONSTELLATION BRANDS INC; COM A; CONS",
         "rawType": "float64",
         "type": "float"
        },
        {
         "name": "CONSTELLATION ENERGY CORP; COM NONE; CONS",
         "rawType": "float64",
         "type": "float"
        },
        {
         "name": "COOPER COMPANIES INC; COM NONE; CONS",
         "rawType": "float64",
         "type": "float"
        },
        {
         "name": "COPART INC; COM NONE; CONS",
         "rawType": "float64",
         "type": "float"
        },
        {
         "name": "CORNING INC; COM NONE; CONS",
         "rawType": "float64",
         "type": "float"
        },
        {
         "name": "CORTEVA INC; COM NONE; CONS",
         "rawType": "float64",
         "type": "float"
        },
        {
         "name": "COSTAR GROUP INC; COM NONE; CONS",
         "rawType": "float64",
         "type": "float"
        },
        {
         "name": "COSTCO WHOLESALE CORP NEW; COM NONE; CONS",
         "rawType": "float64",
         "type": "float"
        },
        {
         "name": "COTERRA ENERGY INC; COM NONE; CONS",
         "rawType": "float64",
         "type": "float"
        },
        {
         "name": "CROWN CASTLE INC; COM NONE; CONS",
         "rawType": "float64",
         "type": "float"
        },
        {
         "name": "CUMMINS INC; COM NONE; CONS",
         "rawType": "float64",
         "type": "float"
        },
        {
         "name": "D R HORTON INC; COM NONE; CONS",
         "rawType": "float64",
         "type": "float"
        },
        {
         "name": "D T E ENERGY CO; COM NONE; CONS",
         "rawType": "float64",
         "type": "float"
        },
        {
         "name": "DANAHER CORP; COM NONE; CONS",
         "rawType": "float64",
         "type": "float"
        },
        {
         "name": "DARDEN RESTAURANTS INC; COM NONE; CONS",
         "rawType": "float64",
         "type": "float"
        },
        {
         "name": "DAVITA INC; COM NONE; CONS",
         "rawType": "float64",
         "type": "float"
        },
        {
         "name": "DEERE & CO; COM NONE; CONS",
         "rawType": "float64",
         "type": "float"
        },
        {
         "name": "DELTA AIR LINES INC; COM NONE; CONS",
         "rawType": "float64",
         "type": "float"
        },
        {
         "name": "DENTSPLY SIRONA INC; COM NONE; CONS",
         "rawType": "float64",
         "type": "float"
        },
        {
         "name": "DEVON ENERGY CORP NEW; COM NONE; CONS",
         "rawType": "float64",
         "type": "float"
        },
        {
         "name": "DEXCOM INC; COM NONE; CONS",
         "rawType": "float64",
         "type": "float"
        },
        {
         "name": "DIAMONDBACK ENERGY INC; COM NONE; CONS",
         "rawType": "float64",
         "type": "float"
        },
        {
         "name": "DIGITAL REALTY TRUST INC; COM NONE; CONS",
         "rawType": "float64",
         "type": "float"
        },
        {
         "name": "DISCOVER FINANCIAL SERVICES; COM NONE; CONS",
         "rawType": "float64",
         "type": "float"
        },
        {
         "name": "DISNEY WALT CO; COM NONE; CONS",
         "rawType": "float64",
         "type": "float"
        },
        {
         "name": "DOLLAR GENERAL CORP NEW; COM NONE; CONS",
         "rawType": "float64",
         "type": "float"
        },
        {
         "name": "DOLLAR TREE INC; COM NONE; CONS",
         "rawType": "float64",
         "type": "float"
        },
        {
         "name": "DOMINION ENERGY INC; COM NONE; CONS",
         "rawType": "float64",
         "type": "float"
        },
        {
         "name": "DOMINOS PIZZA INC; COM NONE; CONS",
         "rawType": "float64",
         "type": "float"
        },
        {
         "name": "DOVER CORP; COM NONE; CONS",
         "rawType": "float64",
         "type": "float"
        },
        {
         "name": "DOW INC; COM NONE; CONS",
         "rawType": "float64",
         "type": "float"
        },
        {
         "name": "DUKE ENERGY CORP NEW; COM NONE; CONS",
         "rawType": "float64",
         "type": "float"
        },
        {
         "name": "DUPONT DE NEMOURS INC; COM NONE; CONS",
         "rawType": "float64",
         "type": "float"
        },
        {
         "name": "E Q T CORP; COM NONE; CONS",
         "rawType": "float64",
         "type": "float"
        },
        {
         "name": "EASTMAN CHEMICAL CO; COM NONE; CONS",
         "rawType": "float64",
         "type": "float"
        },
        {
         "name": "EATON CORP PLC; COM NONE; CONS",
         "rawType": "float64",
         "type": "float"
        },
        {
         "name": "EBAY INC; COM NONE; CONS",
         "rawType": "float64",
         "type": "float"
        },
        {
         "name": "ECOLAB INC; COM NONE; CONS",
         "rawType": "float64",
         "type": "float"
        },
        {
         "name": "EDISON INTERNATIONAL; COM NONE; CONS",
         "rawType": "float64",
         "type": "float"
        },
        {
         "name": "EDWARDS LIFESCIENCES CORP; COM NONE; CONS",
         "rawType": "float64",
         "type": "float"
        },
        {
         "name": "ELECTRONIC ARTS INC; COM NONE; CONS",
         "rawType": "float64",
         "type": "float"
        },
        {
         "name": "ELEVANCE HEALTH INC; COM NONE; CONS",
         "rawType": "float64",
         "type": "float"
        },
        {
         "name": "EMERSON ELECTRIC CO; COM NONE; CONS",
         "rawType": "float64",
         "type": "float"
        },
        {
         "name": "ENPHASE ENERGY INC; COM NONE; CONS",
         "rawType": "float64",
         "type": "float"
        },
        {
         "name": "ENTERGY CORP NEW; COM NONE; CONS",
         "rawType": "float64",
         "type": "float"
        },
        {
         "name": "EOG RESOURCES INC; COM NONE; CONS",
         "rawType": "float64",
         "type": "float"
        },
        {
         "name": "EPAM SYSTEMS INC; COM NONE; CONS",
         "rawType": "float64",
         "type": "float"
        },
        {
         "name": "EQUIFAX INC; COM NONE; CONS",
         "rawType": "float64",
         "type": "float"
        },
        {
         "name": "EQUINIX INC; COM NONE; CONS",
         "rawType": "float64",
         "type": "float"
        },
        {
         "name": "EQUITY RESIDENTIAL; COM NONE; CONS",
         "rawType": "float64",
         "type": "float"
        },
        {
         "name": "ESSEX PROPERTY TRUST INC; COM NONE; CONS",
         "rawType": "float64",
         "type": "float"
        },
        {
         "name": "ETSY INC; COM NONE; CONS",
         "rawType": "float64",
         "type": "float"
        },
        {
         "name": "EVEREST GROUP LTD; COM NONE; CONS",
         "rawType": "float64",
         "type": "float"
        },
        {
         "name": "EVERGY INC; COM NONE; CONS",
         "rawType": "float64",
         "type": "float"
        },
        {
         "name": "EVERSOURCE ENERGY; COM NONE; CONS",
         "rawType": "float64",
         "type": "float"
        },
        {
         "name": "EXELON CORP; COM NONE; CONS",
         "rawType": "float64",
         "type": "float"
        },
        {
         "name": "EXPEDIA GROUP INC; COM NONE; CONS",
         "rawType": "float64",
         "type": "float"
        },
        {
         "name": "EXPEDITORS INTERNATIONAL WA INC; COM A; CONS",
         "rawType": "float64",
         "type": "float"
        },
        {
         "name": "EXTRA SPACE STORAGE INC; COM NONE; CONS",
         "rawType": "float64",
         "type": "float"
        },
        {
         "name": "EXXON MOBIL CORP; COM NONE; CONS",
         "rawType": "float64",
         "type": "float"
        },
        {
         "name": "F 5 INC; COM NONE; CONS",
         "rawType": "float64",
         "type": "float"
        },
        {
         "name": "F M C CORP; COM NONE; CONS",
         "rawType": "float64",
         "type": "float"
        },
        {
         "name": "FACTSET RESEARCH SYSTEMS INC; COM NONE; CONS",
         "rawType": "float64",
         "type": "float"
        },
        {
         "name": "FAIR ISAAC CORP; COM NONE; CONS",
         "rawType": "float64",
         "type": "float"
        },
        {
         "name": "FASTENAL CO; COM NONE; CONS",
         "rawType": "float64",
         "type": "float"
        },
        {
         "name": "FEDERAL REALTY INVESTMENT TR NEW; COM NONE; CONS",
         "rawType": "float64",
         "type": "float"
        },
        {
         "name": "FEDEX CORP; COM NONE; CONS",
         "rawType": "float64",
         "type": "float"
        },
        {
         "name": "FIDELITY NATIONAL INFO SVCS INC; COM NONE; CONS",
         "rawType": "float64",
         "type": "float"
        },
        {
         "name": "FIFTH THIRD BANCORP; COM NONE; CONS",
         "rawType": "float64",
         "type": "float"
        },
        {
         "name": "FIRST SOLAR INC; COM NONE; CONS",
         "rawType": "float64",
         "type": "float"
        },
        {
         "name": "FIRSTENERGY CORP; COM NONE; CONS",
         "rawType": "float64",
         "type": "float"
        },
        {
         "name": "FISERV INC; COM NONE; CONS",
         "rawType": "float64",
         "type": "float"
        },
        {
         "name": "FORD MOTOR CO DEL; COM NONE; CONS",
         "rawType": "float64",
         "type": "float"
        },
        {
         "name": "FORTINET INC; COM NONE; CONS",
         "rawType": "float64",
         "type": "float"
        },
        {
         "name": "FORTIVE CORP; COM NONE; CONS",
         "rawType": "float64",
         "type": "float"
        },
        {
         "name": "FOX CORP; COM A; CONS",
         "rawType": "float64",
         "type": "float"
        },
        {
         "name": "FOX CORP; COM B; CONS",
         "rawType": "float64",
         "type": "float"
        },
        {
         "name": "FRANKLIN RESOURCES INC; COM NONE; CONS",
         "rawType": "float64",
         "type": "float"
        },
        {
         "name": "FREEPORT MCMORAN INC; COM B; CONS",
         "rawType": "float64",
         "type": "float"
        },
        {
         "name": "G E HEALTHCARE TECHNOLOGIES INC; COM NONE; CONS",
         "rawType": "float64",
         "type": "float"
        },
        {
         "name": "GALLAGHER ARTHUR J & CO; COM NONE; CONS",
         "rawType": "float64",
         "type": "float"
        },
        {
         "name": "GARMIN LTD; COM NONE; CONS",
         "rawType": "float64",
         "type": "float"
        },
        {
         "name": "GARTNER INC; COM NONE; CONS",
         "rawType": "float64",
         "type": "float"
        },
        {
         "name": "GEN DIGITAL INC; COM NONE; CONS",
         "rawType": "float64",
         "type": "float"
        },
        {
         "name": "GENERAC HOLDINGS INC; COM NONE; CONS",
         "rawType": "float64",
         "type": "float"
        },
        {
         "name": "GENERAL DYNAMICS CORP; COM NONE; CONS",
         "rawType": "float64",
         "type": "float"
        },
        {
         "name": "GENERAL ELECTRIC CO; COM NONE; CONS",
         "rawType": "float64",
         "type": "float"
        },
        {
         "name": "GENERAL MILLS INC; COM NONE; CONS",
         "rawType": "float64",
         "type": "float"
        },
        {
         "name": "GENERAL MOTORS CO; COM NONE; CONS",
         "rawType": "float64",
         "type": "float"
        },
        {
         "name": "GENUINE PARTS CO; COM NONE; CONS",
         "rawType": "float64",
         "type": "float"
        },
        {
         "name": "GILEAD SCIENCES INC; COM NONE; CONS",
         "rawType": "float64",
         "type": "float"
        },
        {
         "name": "GLOBAL PAYMENTS INC; COM NONE; CONS",
         "rawType": "float64",
         "type": "float"
        },
        {
         "name": "GLOBE LIFE INC; COM NONE; CONS",
         "rawType": "float64",
         "type": "float"
        },
        {
         "name": "GOLDMAN SACHS GROUP INC; COM NONE; CONS",
         "rawType": "float64",
         "type": "float"
        },
        {
         "name": "GRAINGER W W INC; COM NONE; CONS",
         "rawType": "float64",
         "type": "float"
        },
        {
         "name": "H C A HEALTHCARE INC; COM NONE; CONS",
         "rawType": "float64",
         "type": "float"
        },
        {
         "name": "H P INC; COM NONE; CONS",
         "rawType": "float64",
         "type": "float"
        },
        {
         "name": "HALLIBURTON CO; COM NONE; CONS",
         "rawType": "float64",
         "type": "float"
        },
        {
         "name": "HASBRO INC; COM NONE; CONS",
         "rawType": "float64",
         "type": "float"
        },
        {
         "name": "HENRY JACK & ASSOC INC; COM NONE; CONS",
         "rawType": "float64",
         "type": "float"
        },
        {
         "name": "HERSHEY CO; COM NONE; CONS",
         "rawType": "float64",
         "type": "float"
        },
        {
         "name": "HESS CORP; COM NONE; CONS",
         "rawType": "float64",
         "type": "float"
        },
        {
         "name": "HEWLETT PACKARD ENTERPRISE CO; COM NONE; CONS",
         "rawType": "float64",
         "type": "float"
        },
        {
         "name": "HILTON WORLDWIDE HOLDINGS INC; COM NONE; CONS",
         "rawType": "float64",
         "type": "float"
        },
        {
         "name": "HOLOGIC INC; COM NONE; CONS",
         "rawType": "float64",
         "type": "float"
        },
        {
         "name": "HOME DEPOT INC; COM NONE; CONS",
         "rawType": "float64",
         "type": "float"
        },
        {
         "name": "HONEYWELL INTERNATIONAL INC; COM NONE; CONS",
         "rawType": "float64",
         "type": "float"
        },
        {
         "name": "HORMEL FOODS CORP; COM NONE; CONS",
         "rawType": "float64",
         "type": "float"
        },
        {
         "name": "HOST HOTELS & RESORTS INC; COM NONE; CONS",
         "rawType": "float64",
         "type": "float"
        },
        {
         "name": "HOWMET AEROSPACE INC; COM NONE; CONS",
         "rawType": "float64",
         "type": "float"
        },
        {
         "name": "HUBBELL INC; COM NONE; CONS",
         "rawType": "float64",
         "type": "float"
        },
        {
         "name": "HUMANA INC; COM NONE; CONS",
         "rawType": "float64",
         "type": "float"
        },
        {
         "name": "HUNT J B TRANSPORT SERVICES INC; COM NONE; CONS",
         "rawType": "float64",
         "type": "float"
        },
        {
         "name": "HUNTINGTON BANCSHARES INC; COM NONE; CONS",
         "rawType": "float64",
         "type": "float"
        },
        {
         "name": "HUNTINGTON INGALLS INDS INC; COM NONE; CONS",
         "rawType": "float64",
         "type": "float"
        },
        {
         "name": "I D E X X LABORATORIES INC; COM NONE; CONS",
         "rawType": "float64",
         "type": "float"
        },
        {
         "name": "IDEX CORP; COM NONE; CONS",
         "rawType": "float64",
         "type": "float"
        },
        {
         "name": "ILLINOIS TOOL WORKS INC; COM NONE; CONS",
         "rawType": "float64",
         "type": "float"
        },
        {
         "name": "ILLUMINA INC; COM NONE; CONS",
         "rawType": "float64",
         "type": "float"
        },
        {
         "name": "INCYTE CORP; COM NONE; CONS",
         "rawType": "float64",
         "type": "float"
        },
        {
         "name": "INGERSOLL RAND INC; COM NONE; CONS",
         "rawType": "float64",
         "type": "float"
        },
        {
         "name": "INSULET CORP; COM NONE; CONS",
         "rawType": "float64",
         "type": "float"
        },
        {
         "name": "INTEL CORP; COM NONE; CONS",
         "rawType": "float64",
         "type": "float"
        },
        {
         "name": "INTERCONTINENTALEXCHANGE GRP INC; COM NONE; CONS",
         "rawType": "float64",
         "type": "float"
        },
        {
         "name": "INTERNATIONAL BUSINESS MACHS COR; COM NONE; CONS",
         "rawType": "float64",
         "type": "float"
        },
        {
         "name": "INTERNATIONAL FLAVORS & FRAG INC; COM NONE; CONS",
         "rawType": "float64",
         "type": "float"
        },
        {
         "name": "INTERNATIONAL PAPER CO; COM NONE; CONS",
         "rawType": "float64",
         "type": "float"
        },
        {
         "name": "INTERPUBLIC GROUP COS INC; COM NONE; CONS",
         "rawType": "float64",
         "type": "float"
        },
        {
         "name": "INTUIT INC; COM NONE; CONS",
         "rawType": "float64",
         "type": "float"
        },
        {
         "name": "INTUITIVE SURGICAL INC; COM NONE; CONS",
         "rawType": "float64",
         "type": "float"
        },
        {
         "name": "INVESCO LTD; COM NONE; CONS",
         "rawType": "float64",
         "type": "float"
        },
        {
         "name": "INVITATION HOMES INC; COM NONE; CONS",
         "rawType": "float64",
         "type": "float"
        },
        {
         "name": "IQVIA HOLDINGS INC; COM NONE; CONS",
         "rawType": "float64",
         "type": "float"
        },
        {
         "name": "IRON MOUNTAIN INC NEW; COM NONE; CONS",
         "rawType": "float64",
         "type": "float"
        },
        {
         "name": "JACOBS SOLUTIONS INC; COM NONE; CONS",
         "rawType": "float64",
         "type": "float"
        },
        {
         "name": "JOHNSON & JOHNSON; COM NONE; CONS",
         "rawType": "float64",
         "type": "float"
        },
        {
         "name": "JOHNSON CONTROLS INTL PLC; COM NONE; CONS",
         "rawType": "float64",
         "type": "float"
        },
        {
         "name": "JPMORGAN CHASE & CO; COM NONE; CONS",
         "rawType": "float64",
         "type": "float"
        },
        {
         "name": "JUNIPER NETWORKS INC; COM NONE; CONS",
         "rawType": "float64",
         "type": "float"
        },
        {
         "name": "K L A CORP; COM NONE; CONS",
         "rawType": "float64",
         "type": "float"
        },
        {
         "name": "KELLANOVA; COM NONE; CONS",
         "rawType": "float64",
         "type": "float"
        },
        {
         "name": "KENVUE INC; COM NONE; CONS",
         "rawType": "float64",
         "type": "float"
        },
        {
         "name": "KEURIG DR PEPPER INC; COM NONE; CONS",
         "rawType": "float64",
         "type": "float"
        },
        {
         "name": "KEYCORP NEW; COM NONE; CONS",
         "rawType": "float64",
         "type": "float"
        },
        {
         "name": "KEYSIGHT TECHNOLOGIES INC; COM NONE; CONS",
         "rawType": "float64",
         "type": "float"
        },
        {
         "name": "KIMBERLY CLARK CORP; COM NONE; CONS",
         "rawType": "float64",
         "type": "float"
        },
        {
         "name": "KIMCO REALTY CORP; COM NONE; CONS",
         "rawType": "float64",
         "type": "float"
        },
        {
         "name": "KINDER MORGAN INC; COM P; CONS",
         "rawType": "float64",
         "type": "float"
        },
        {
         "name": "KRAFT HEINZ CO; COM NONE; CONS",
         "rawType": "float64",
         "type": "float"
        },
        {
         "name": "KROGER CO; COM NONE; CONS",
         "rawType": "float64",
         "type": "float"
        },
        {
         "name": "L K Q CORP; COM NONE; CONS",
         "rawType": "float64",
         "type": "float"
        },
        {
         "name": "L3HARRIS TECHNOLOGIES INC; COM NONE; CONS",
         "rawType": "float64",
         "type": "float"
        },
        {
         "name": "LABCORP HOLDINGS INC; COM NONE; CONS",
         "rawType": "float64",
         "type": "float"
        },
        {
         "name": "LAM RESH CORP; COM NONE; CONS",
         "rawType": "float64",
         "type": "float"
        },
        {
         "name": "LAMB WESTON HOLDINGS INC; COM NONE; CONS",
         "rawType": "float64",
         "type": "float"
        },
        {
         "name": "LAS VEGAS SANDS CORP; COM NONE; CONS",
         "rawType": "float64",
         "type": "float"
        },
        {
         "name": "LAUDER ESTEE COS INC; COM A; CONS",
         "rawType": "float64",
         "type": "float"
        },
        {
         "name": "LEIDOS HOLDINGS INC; COM NONE; CONS",
         "rawType": "float64",
         "type": "float"
        },
        {
         "name": "LENNAR CORP; COM A; CONS",
         "rawType": "float64",
         "type": "float"
        },
        {
         "name": "LENNAR CORP; COM B; CONS",
         "rawType": "float64",
         "type": "float"
        },
        {
         "name": "LILLY ELI & CO; COM NONE; CONS",
         "rawType": "float64",
         "type": "float"
        },
        {
         "name": "LINDE PLC NEW; COM NONE; CONS",
         "rawType": "float64",
         "type": "float"
        },
        {
         "name": "LIVE NATION ENTERTAINMENT INC; COM NONE; CONS",
         "rawType": "float64",
         "type": "float"
        },
        {
         "name": "LOCKHEED MARTIN CORP; COM NONE; CONS",
         "rawType": "float64",
         "type": "float"
        },
        {
         "name": "LOEWS CORP; COM NONE; CONS",
         "rawType": "float64",
         "type": "float"
        },
        {
         "name": "LOWES COMPANIES INC; COM NONE; CONS",
         "rawType": "float64",
         "type": "float"
        },
        {
         "name": "LULULEMON ATHLETICA INC; COM NONE; CONS",
         "rawType": "float64",
         "type": "float"
        },
        {
         "name": "LYONDELLBASELL INDUSTRIES N V; COM A; CONS",
         "rawType": "float64",
         "type": "float"
        },
        {
         "name": "M & T BANK CORP; COM NONE; CONS",
         "rawType": "float64",
         "type": "float"
        },
        {
         "name": "M G M RESORTS INTERNATIONAL; COM NONE; CONS",
         "rawType": "float64",
         "type": "float"
        },
        {
         "name": "M S C I INC; COM NONE; CONS",
         "rawType": "float64",
         "type": "float"
        },
        {
         "name": "MARATHON PETROLEUM CORP; COM NONE; CONS",
         "rawType": "float64",
         "type": "float"
        },
        {
         "name": "MARKETAXESS HLDGS INC; COM NONE; CONS",
         "rawType": "float64",
         "type": "float"
        },
        {
         "name": "MARRIOTT INTERNATIONAL INC NEW; COM A; CONS",
         "rawType": "float64",
         "type": "float"
        },
        {
         "name": "MARSH & MCLENNAN COS INC; COM NONE; CONS",
         "rawType": "float64",
         "type": "float"
        },
        {
         "name": "MARTIN MARIETTA MATERIALS INC; COM NONE; CONS",
         "rawType": "float64",
         "type": "float"
        },
        {
         "name": "MASCO CORP; COM NONE; CONS",
         "rawType": "float64",
         "type": "float"
        },
        {
         "name": "MASTERCARD INC; COM A; CONS",
         "rawType": "float64",
         "type": "float"
        },
        {
         "name": "MATCH GROUP INC NEW; COM NONE; CONS",
         "rawType": "float64",
         "type": "float"
        },
        {
         "name": "MCCORMICK & CO INC; COM NONE; CONS",
         "rawType": "float64",
         "type": "float"
        },
        {
         "name": "MCCORMICK & CO INC; COM V; CONS",
         "rawType": "float64",
         "type": "float"
        },
        {
         "name": "MCDONALDS CORP; COM NONE; CONS",
         "rawType": "float64",
         "type": "float"
        },
        {
         "name": "MCKESSON H B O C INC; COM NONE; CONS",
         "rawType": "float64",
         "type": "float"
        },
        {
         "name": "MEDTRONIC PLC; COM NONE; CONS",
         "rawType": "float64",
         "type": "float"
        },
        {
         "name": "MERCK & CO INC NEW; COM NONE; CONS",
         "rawType": "float64",
         "type": "float"
        },
        {
         "name": "META PLATFORMS INC; COM A; CONS",
         "rawType": "float64",
         "type": "float"
        },
        {
         "name": "METLIFE INC; COM NONE; CONS",
         "rawType": "float64",
         "type": "float"
        },
        {
         "name": "METTLER TOLEDO INTERNATIONAL INC; COM NONE; CONS",
         "rawType": "float64",
         "type": "float"
        },
        {
         "name": "MICROCHIP TECHNOLOGY INC; COM NONE; CONS",
         "rawType": "float64",
         "type": "float"
        },
        {
         "name": "MICRON TECHNOLOGY INC; COM NONE; CONS",
         "rawType": "float64",
         "type": "float"
        },
        {
         "name": "MICROSOFT CORP; COM NONE; CONS",
         "rawType": "float64",
         "type": "float"
        },
        {
         "name": "MID AMERICA APT COMMUNITIES INC; COM NONE; CONS",
         "rawType": "float64",
         "type": "float"
        },
        {
         "name": "MODERNA INC; COM NONE; CONS",
         "rawType": "float64",
         "type": "float"
        },
        {
         "name": "MOHAWK INDUSTRIES INC; COM NONE; CONS",
         "rawType": "float64",
         "type": "float"
        },
        {
         "name": "MOLINA HEALTHCARE INC; COM NONE; CONS",
         "rawType": "float64",
         "type": "float"
        },
        {
         "name": "MOLSON COORS BEVERAGE CO; COM B; CONS",
         "rawType": "float64",
         "type": "float"
        },
        {
         "name": "MONDELEZ INTERNATIONAL INC; COM A; CONS",
         "rawType": "float64",
         "type": "float"
        },
        {
         "name": "MONOLITHIC PWR SYS INC; COM NONE; CONS",
         "rawType": "float64",
         "type": "float"
        },
        {
         "name": "MONSTER BEVERAGE CORP NEW; COM NONE; CONS",
         "rawType": "float64",
         "type": "float"
        },
        {
         "name": "MOODYS CORP; COM NONE; CONS",
         "rawType": "float64",
         "type": "float"
        },
        {
         "name": "MORGAN STANLEY DEAN WITTER & CO; COM NONE; CONS",
         "rawType": "float64",
         "type": "float"
        },
        {
         "name": "MOSAIC CO NEW; COM NONE; CONS",
         "rawType": "float64",
         "type": "float"
        },
        {
         "name": "MOTOROLA SOLUTIONS INC; COM NONE; CONS",
         "rawType": "float64",
         "type": "float"
        },
        {
         "name": "N R G ENERGY INC; COM NONE; CONS",
         "rawType": "float64",
         "type": "float"
        },
        {
         "name": "N V R INC; COM NONE; CONS",
         "rawType": "float64",
         "type": "float"
        },
        {
         "name": "N X P SEMICONDUCTORS N V; COM NONE; CONS",
         "rawType": "float64",
         "type": "float"
        },
        {
         "name": "NASDAQ INC; COM NONE; CONS",
         "rawType": "float64",
         "type": "float"
        },
        {
         "name": "NETAPP INC; COM NONE; CONS",
         "rawType": "float64",
         "type": "float"
        },
        {
         "name": "NETFLIX INC; COM NONE; CONS",
         "rawType": "float64",
         "type": "float"
        },
        {
         "name": "NEWMONT CORP; COM NONE; CONS",
         "rawType": "float64",
         "type": "float"
        },
        {
         "name": "NEWS CORP NEW; COM A; CONS",
         "rawType": "float64",
         "type": "float"
        },
        {
         "name": "NEWS CORP NEW; COM B; CONS",
         "rawType": "float64",
         "type": "float"
        },
        {
         "name": "NEXTERA ENERGY INC; COM NONE; CONS",
         "rawType": "float64",
         "type": "float"
        },
        {
         "name": "NIKE INC; COM B; CONS",
         "rawType": "float64",
         "type": "float"
        },
        {
         "name": "NISOURCE INC; COM NONE; CONS",
         "rawType": "float64",
         "type": "float"
        },
        {
         "name": "NORDSON CORP; COM NONE; CONS",
         "rawType": "float64",
         "type": "float"
        },
        {
         "name": "NORFOLK SOUTHERN CORP; COM NONE; CONS",
         "rawType": "float64",
         "type": "float"
        },
        {
         "name": "NORTHERN TRUST CORP; COM NONE; CONS",
         "rawType": "float64",
         "type": "float"
        },
        {
         "name": "NORTHROP GRUMMAN CORP; COM NONE; CONS",
         "rawType": "float64",
         "type": "float"
        },
        {
         "name": "NORWEGIAN CRUISE LINE HLDGS LTD; COM NONE; CONS",
         "rawType": "float64",
         "type": "float"
        },
        {
         "name": "NUCOR CORP; COM NONE; CONS",
         "rawType": "float64",
         "type": "float"
        },
        {
         "name": "NVIDIA CORP; COM NONE; CONS",
         "rawType": "float64",
         "type": "float"
        },
        {
         "name": "O REILLY AUTOMOTIVE INC NEW; COM NONE; CONS",
         "rawType": "float64",
         "type": "float"
        },
        {
         "name": "OCCIDENTAL PETROLEUM CORP; COM NONE; CONS",
         "rawType": "float64",
         "type": "float"
        },
        {
         "name": "OLD DOMINION FREIGHT LINE INC; COM NONE; CONS",
         "rawType": "float64",
         "type": "float"
        },
        {
         "name": "OMNICOM GROUP INC; COM NONE; CONS",
         "rawType": "float64",
         "type": "float"
        },
        {
         "name": "ON SEMICONDUCTOR CORP; COM NONE; CONS",
         "rawType": "float64",
         "type": "float"
        },
        {
         "name": "ONEOK INC NEW; COM NONE; CONS",
         "rawType": "float64",
         "type": "float"
        },
        {
         "name": "ORACLE CORP; COM NONE; CONS",
         "rawType": "float64",
         "type": "float"
        },
        {
         "name": "OTIS WORLDWIDE CORP; COM NONE; CONS",
         "rawType": "float64",
         "type": "float"
        },
        {
         "name": "P G & E CORP; COM NONE; CONS",
         "rawType": "float64",
         "type": "float"
        },
        {
         "name": "P N C FINANCIAL SERVICES GRP INC; COM NONE; CONS",
         "rawType": "float64",
         "type": "float"
        },
        {
         "name": "P P G INDUSTRIES INC; COM NONE; CONS",
         "rawType": "float64",
         "type": "float"
        },
        {
         "name": "P P L CORP; COM NONE; CONS",
         "rawType": "float64",
         "type": "float"
        },
        {
         "name": "P T C INC; COM NONE; CONS",
         "rawType": "float64",
         "type": "float"
        },
        {
         "name": "PACCAR INC; COM NONE; CONS",
         "rawType": "float64",
         "type": "float"
        },
        {
         "name": "PACKAGING CORP AMERICA; COM NONE; CONS",
         "rawType": "float64",
         "type": "float"
        },
        {
         "name": "PALO ALTO NETWORKS INC; COM NONE; CONS",
         "rawType": "float64",
         "type": "float"
        },
        {
         "name": "PARAMOUNT GLOBAL; COM B; CONS",
         "rawType": "float64",
         "type": "float"
        },
        {
         "name": "PARKER HANNIFIN CORP; COM NONE; CONS",
         "rawType": "float64",
         "type": "float"
        },
        {
         "name": "PAYCHEX INC; COM NONE; CONS",
         "rawType": "float64",
         "type": "float"
        },
        {
         "name": "PAYCOM SOFTWARE INC; COM NONE; CONS",
         "rawType": "float64",
         "type": "float"
        },
        {
         "name": "PAYPAL HOLDINGS INC; COM NONE; CONS",
         "rawType": "float64",
         "type": "float"
        },
        {
         "name": "PENTAIR PLC; COM NONE; CONS",
         "rawType": "float64",
         "type": "float"
        },
        {
         "name": "PEPSICO INC; COM NONE; CONS",
         "rawType": "float64",
         "type": "float"
        },
        {
         "name": "PFIZER INC; COM NONE; CONS",
         "rawType": "float64",
         "type": "float"
        },
        {
         "name": "PHILIP MORRIS INTERNATIONAL INC; COM NONE; CONS",
         "rawType": "float64",
         "type": "float"
        },
        {
         "name": "PHILLIPS 66; COM NONE; CONS",
         "rawType": "float64",
         "type": "float"
        },
        {
         "name": "PINNACLE WEST CAPITAL CORP; COM NONE; CONS",
         "rawType": "float64",
         "type": "float"
        },
        {
         "name": "POOL CORP; COM NONE; CONS",
         "rawType": "float64",
         "type": "float"
        },
        {
         "name": "PRINCIPAL FINANCIAL GROUP INC; COM NONE; CONS",
         "rawType": "float64",
         "type": "float"
        },
        {
         "name": "PROCTER & GAMBLE CO; COM NONE; CONS",
         "rawType": "float64",
         "type": "float"
        },
        {
         "name": "PROGRESSIVE CORP OH; COM NONE; CONS",
         "rawType": "float64",
         "type": "float"
        },
        {
         "name": "PROLOGIS INC; COM NONE; CONS",
         "rawType": "float64",
         "type": "float"
        },
        {
         "name": "PRUDENTIAL FINANCIAL INC; COM NONE; CONS",
         "rawType": "float64",
         "type": "float"
        },
        {
         "name": "PUBLIC SERVICE ENTERPRISE GP INC; COM NONE; CONS",
         "rawType": "float64",
         "type": "float"
        },
        {
         "name": "PUBLIC STORAGE; COM NONE; CONS",
         "rawType": "float64",
         "type": "float"
        },
        {
         "name": "PULTE GROUP INC; COM NONE; CONS",
         "rawType": "float64",
         "type": "float"
        },
        {
         "name": "QORVO INC; COM NONE; CONS",
         "rawType": "float64",
         "type": "float"
        },
        {
         "name": "QUALCOMM INC; COM NONE; CONS",
         "rawType": "float64",
         "type": "float"
        },
        {
         "name": "QUANTA SERVICES INC; COM NONE; CONS",
         "rawType": "float64",
         "type": "float"
        },
        {
         "name": "QUEST DIAGNOSTICS INC; COM NONE; CONS",
         "rawType": "float64",
         "type": "float"
        },
        {
         "name": "R T X CORP; COM NONE; CONS",
         "rawType": "float64",
         "type": "float"
        },
        {
         "name": "RALPH LAUREN CORP; COM A; CONS",
         "rawType": "float64",
         "type": "float"
        },
        {
         "name": "RAYMOND JAMES FINANCIAL INC; COM NONE; CONS",
         "rawType": "float64",
         "type": "float"
        },
        {
         "name": "REALTY INCOME CORP; COM NONE; CONS",
         "rawType": "float64",
         "type": "float"
        },
        {
         "name": "REGENCY CENTERS CORP; COM NONE; CONS",
         "rawType": "float64",
         "type": "float"
        },
        {
         "name": "REGENERON PHARMACEUTICALS INC; COM NONE; CONS",
         "rawType": "float64",
         "type": "float"
        },
        {
         "name": "REGIONS FINANCIAL CORP NEW; COM NONE; CONS",
         "rawType": "float64",
         "type": "float"
        },
        {
         "name": "REPUBLIC SERVICES INC; COM NONE; CONS",
         "rawType": "float64",
         "type": "float"
        },
        {
         "name": "RESMED INC; COM NONE; CONS",
         "rawType": "float64",
         "type": "float"
        },
        {
         "name": "REVVITY INC; COM NONE; CONS",
         "rawType": "float64",
         "type": "float"
        },
        {
         "name": "ROBERT HALF INC; COM NONE; CONS",
         "rawType": "float64",
         "type": "float"
        },
        {
         "name": "ROCKWELL AUTOMATION INC; COM NONE; CONS",
         "rawType": "float64",
         "type": "float"
        },
        {
         "name": "ROLLINS INC; COM NONE; CONS",
         "rawType": "float64",
         "type": "float"
        },
        {
         "name": "ROPER TECHNOLOGIES INC; COM NONE; CONS",
         "rawType": "float64",
         "type": "float"
        },
        {
         "name": "ROSS STORES INC; COM NONE; CONS",
         "rawType": "float64",
         "type": "float"
        },
        {
         "name": "ROYAL CARIBBEAN CRUISES LTD; COM NONE; CONS",
         "rawType": "float64",
         "type": "float"
        },
        {
         "name": "S & P GLOBAL INC; COM NONE; CONS",
         "rawType": "float64",
         "type": "float"
        },
        {
         "name": "S B A COMMUNICATIONS CORP NEW; COM A; CONS",
         "rawType": "float64",
         "type": "float"
        },
        {
         "name": "SALESFORCE INC; COM NONE; CONS",
         "rawType": "float64",
         "type": "float"
        },
        {
         "name": "SCHEIN HENRY INC; COM NONE; CONS",
         "rawType": "float64",
         "type": "float"
        },
        {
         "name": "SCHLUMBERGER LTD; COM NONE; CONS",
         "rawType": "float64",
         "type": "float"
        },
        {
         "name": "SCHWAB CHARLES CORP NEW; COM NONE; CONS",
         "rawType": "float64",
         "type": "float"
        },
        {
         "name": "SEAGATE TECHNOLOGY HOLDINGS PLC; COM NONE; CONS",
         "rawType": "float64",
         "type": "float"
        },
        {
         "name": "SEALED AIR CORP NEW; COM NONE; CONS",
         "rawType": "float64",
         "type": "float"
        },
        {
         "name": "SEMPRA ENERGY; COM NONE; CONS",
         "rawType": "float64",
         "type": "float"
        },
        {
         "name": "SERVICENOW INC; COM NONE; CONS",
         "rawType": "float64",
         "type": "float"
        },
        {
         "name": "SHERWIN WILLIAMS CO; COM NONE; CONS",
         "rawType": "float64",
         "type": "float"
        },
        {
         "name": "SIMON PROPERTY GROUP INC NEW; COM NONE; CONS",
         "rawType": "float64",
         "type": "float"
        },
        {
         "name": "SKYWORKS SOLUTIONS INC; COM NONE; CONS",
         "rawType": "float64",
         "type": "float"
        },
        {
         "name": "SMITH A O CORP; COM NONE; CONS",
         "rawType": "float64",
         "type": "float"
        },
        {
         "name": "SMUCKER J M CO; COM NONE; CONS",
         "rawType": "float64",
         "type": "float"
        },
        {
         "name": "SNAP ON INC; COM NONE; CONS",
         "rawType": "float64",
         "type": "float"
        },
        {
         "name": "SOLAREDGE TECHNOLOGIES INC; COM NONE; CONS",
         "rawType": "float64",
         "type": "float"
        },
        {
         "name": "SOUTHERN CO; COM NONE; CONS",
         "rawType": "float64",
         "type": "float"
        },
        {
         "name": "SOUTHWEST AIRLINES CO; COM NONE; CONS",
         "rawType": "float64",
         "type": "float"
        },
        {
         "name": "STANLEY BLACK & DECKER INC; COM NONE; CONS",
         "rawType": "float64",
         "type": "float"
        },
        {
         "name": "STARBUCKS CORP; COM NONE; CONS",
         "rawType": "float64",
         "type": "float"
        },
        {
         "name": "STATE STREET CORP; COM NONE; CONS",
         "rawType": "float64",
         "type": "float"
        },
        {
         "name": "STEEL DYNAMICS INC; COM NONE; CONS",
         "rawType": "float64",
         "type": "float"
        },
        {
         "name": "STERIS PLC NEW; COM NONE; CONS",
         "rawType": "float64",
         "type": "float"
        },
        {
         "name": "STRYKER CORP; COM NONE; CONS",
         "rawType": "float64",
         "type": "float"
        },
        {
         "name": "SYNCHRONY FINANCIAL; COM NONE; CONS",
         "rawType": "float64",
         "type": "float"
        },
        {
         "name": "SYNOPSYS INC; COM NONE; CONS",
         "rawType": "float64",
         "type": "float"
        },
        {
         "name": "SYSCO CORP; COM NONE; CONS",
         "rawType": "float64",
         "type": "float"
        },
        {
         "name": "T E CONNECTIVITY PLC; COM NONE; CONS",
         "rawType": "float64",
         "type": "float"
        },
        {
         "name": "T J X COMPANIES INC NEW; COM NONE; CONS",
         "rawType": "float64",
         "type": "float"
        },
        {
         "name": "T MOBILE U S INC; COM NONE; CONS",
         "rawType": "float64",
         "type": "float"
        },
        {
         "name": "T ROWE PRICE GROUP INC; COM NONE; CONS",
         "rawType": "float64",
         "type": "float"
        },
        {
         "name": "TAKE TWO INTERACTIVE SOFTWR INC; COM NONE; CONS",
         "rawType": "float64",
         "type": "float"
        },
        {
         "name": "TAPESTRY INC; COM NONE; CONS",
         "rawType": "float64",
         "type": "float"
        },
        {
         "name": "TARGA RESOURCES CORP; COM NONE; CONS",
         "rawType": "float64",
         "type": "float"
        },
        {
         "name": "TARGET CORP; COM NONE; CONS",
         "rawType": "float64",
         "type": "float"
        },
        {
         "name": "TELEDYNE TECHNOLOGIES; COM NONE; CONS",
         "rawType": "float64",
         "type": "float"
        },
        {
         "name": "TELEFLEX INC; COM NONE; CONS",
         "rawType": "float64",
         "type": "float"
        },
        {
         "name": "TERADYNE INC; COM NONE; CONS",
         "rawType": "float64",
         "type": "float"
        },
        {
         "name": "TESLA INC; COM NONE; CONS",
         "rawType": "float64",
         "type": "float"
        },
        {
         "name": "TEXAS INSTRUMENTS INC; COM NONE; CONS",
         "rawType": "float64",
         "type": "float"
        },
        {
         "name": "TEXTRON INC; COM NONE; CONS",
         "rawType": "float64",
         "type": "float"
        },
        {
         "name": "THERMO FISHER SCIENTIFIC INC; COM NONE; CONS",
         "rawType": "float64",
         "type": "float"
        },
        {
         "name": "TRACTOR SUPPLY CO NEW; COM NONE; CONS",
         "rawType": "float64",
         "type": "float"
        },
        {
         "name": "TRANE TECHNOLOGIES PLC; COM NONE; CONS",
         "rawType": "float64",
         "type": "float"
        },
        {
         "name": "TRANSDIGM GROUP INC; COM NONE; CONS",
         "rawType": "float64",
         "type": "float"
        },
        {
         "name": "TRAVELERS COMPANIES INC; COM NONE; CONS",
         "rawType": "float64",
         "type": "float"
        },
        {
         "name": "TRIMBLE INC; COM NONE; CONS",
         "rawType": "float64",
         "type": "float"
        },
        {
         "name": "TRUIST FINANCIAL CORP; COM NONE; CONS",
         "rawType": "float64",
         "type": "float"
        },
        {
         "name": "TYLER TECHNOLOGIES INC; COM NONE; CONS",
         "rawType": "float64",
         "type": "float"
        },
        {
         "name": "TYSON FOODS INC; COM A; CONS",
         "rawType": "float64",
         "type": "float"
        },
        {
         "name": "U D R INC; COM NONE; CONS",
         "rawType": "float64",
         "type": "float"
        },
        {
         "name": "U S BANCORP DEL; COM NONE; CONS",
         "rawType": "float64",
         "type": "float"
        },
        {
         "name": "ULTA BEAUTY INC; COM NONE; CONS",
         "rawType": "float64",
         "type": "float"
        },
        {
         "name": "UNION PACIFIC CORP; COM NONE; CONS",
         "rawType": "float64",
         "type": "float"
        },
        {
         "name": "UNITED AIRLINES HOLDINGS INC; COM NONE; CONS",
         "rawType": "float64",
         "type": "float"
        },
        {
         "name": "UNITED PARCEL SERVICE INC; COM B; CONS",
         "rawType": "float64",
         "type": "float"
        },
        {
         "name": "UNITED RENTALS INC; COM NONE; CONS",
         "rawType": "float64",
         "type": "float"
        },
        {
         "name": "UNITEDHEALTH GROUP INC; COM NONE; CONS",
         "rawType": "float64",
         "type": "float"
        },
        {
         "name": "UNIVERSAL HEALTH SERVICES INC; COM B; CONS",
         "rawType": "float64",
         "type": "float"
        },
        {
         "name": "V F CORP; COM NONE; CONS",
         "rawType": "float64",
         "type": "float"
        },
        {
         "name": "VALERO ENERGY CORP NEW; COM NONE; CONS",
         "rawType": "float64",
         "type": "float"
        },
        {
         "name": "VENTAS INC; COM NONE; CONS",
         "rawType": "float64",
         "type": "float"
        },
        {
         "name": "VERALTO CORP; COM NONE; CONS",
         "rawType": "float64",
         "type": "float"
        },
        {
         "name": "VERISIGN INC; COM NONE; CONS",
         "rawType": "float64",
         "type": "float"
        },
        {
         "name": "VERISK ANALYTICS INC; COM NONE; CONS",
         "rawType": "float64",
         "type": "float"
        },
        {
         "name": "VERIZON COMMUNICATIONS INC; COM NONE; CONS",
         "rawType": "float64",
         "type": "float"
        },
        {
         "name": "VERTEX PHARMACEUTICALS INC; COM NONE; CONS",
         "rawType": "float64",
         "type": "float"
        },
        {
         "name": "VIATRIS INC; COM NONE; CONS",
         "rawType": "float64",
         "type": "float"
        },
        {
         "name": "VICI PROPERTIES INC; COM NONE; CONS",
         "rawType": "float64",
         "type": "float"
        },
        {
         "name": "VISA INC; COM A; CONS",
         "rawType": "float64",
         "type": "float"
        },
        {
         "name": "VULCAN MATERIALS CO; COM NONE; CONS",
         "rawType": "float64",
         "type": "float"
        },
        {
         "name": "W E C ENERGY GROUP INC; COM NONE; CONS",
         "rawType": "float64",
         "type": "float"
        },
        {
         "name": "WABTEC CORP; COM NONE; CONS",
         "rawType": "float64",
         "type": "float"
        },
        {
         "name": "WALGREENS BOOTS ALLIANCE INC; COM NONE; CONS",
         "rawType": "float64",
         "type": "float"
        },
        {
         "name": "WALMART INC; COM NONE; CONS",
         "rawType": "float64",
         "type": "float"
        },
        {
         "name": "WARNER BROS DISCOVERY INC; COM A; CONS",
         "rawType": "float64",
         "type": "float"
        },
        {
         "name": "WASTE MANAGEMENT INC DEL; COM NONE; CONS",
         "rawType": "float64",
         "type": "float"
        },
        {
         "name": "WATERS CORP; COM NONE; CONS",
         "rawType": "float64",
         "type": "float"
        },
        {
         "name": "WELLS FARGO & CO NEW; COM NONE; CONS",
         "rawType": "float64",
         "type": "float"
        },
        {
         "name": "WELLTOWER INC; COM NONE; CONS",
         "rawType": "float64",
         "type": "float"
        },
        {
         "name": "WEST PHARMACEUTICAL SERVICES INC; COM NONE; CONS",
         "rawType": "float64",
         "type": "float"
        },
        {
         "name": "WESTERN DIGITAL CORP; COM NONE; CONS",
         "rawType": "float64",
         "type": "float"
        },
        {
         "name": "WEYERHAEUSER CO; COM NONE; CONS",
         "rawType": "float64",
         "type": "float"
        },
        {
         "name": "WHIRLPOOL CORP; COM NONE; CONS",
         "rawType": "float64",
         "type": "float"
        },
        {
         "name": "WILLIAMS COS; COM NONE; CONS",
         "rawType": "float64",
         "type": "float"
        },
        {
         "name": "WILLIS TOWERS WATSON PUB LTD CO; COM NONE; CONS",
         "rawType": "float64",
         "type": "float"
        },
        {
         "name": "WYNN RESORTS LTD; COM NONE; CONS",
         "rawType": "float64",
         "type": "float"
        },
        {
         "name": "X C E L ENERGY INC; COM NONE; CONS",
         "rawType": "float64",
         "type": "float"
        },
        {
         "name": "XYLEM INC; COM NONE; CONS",
         "rawType": "float64",
         "type": "float"
        },
        {
         "name": "YUM BRANDS INC; COM NONE; CONS",
         "rawType": "float64",
         "type": "float"
        },
        {
         "name": "ZEBRA TECHNOLOGIES CORP; COM A; CONS",
         "rawType": "float64",
         "type": "float"
        },
        {
         "name": "ZIMMER BIOMET HOLDINGS INC; COM NONE; CONS",
         "rawType": "float64",
         "type": "float"
        },
        {
         "name": "ZIONS BANCORPORATION N A; COM NONE; CONS",
         "rawType": "float64",
         "type": "float"
        },
        {
         "name": "ZOETIS INC; COM A; CONS",
         "rawType": "float64",
         "type": "float"
        }
       ],
       "ref": "1094f765-dc8b-4290-b622-c5fb93a9500c",
       "rows": [
        [
         "2025-01-31 00:00:00",
         null,
         null,
         null,
         null,
         null,
         null,
         null,
         null,
         null,
         null,
         null,
         null,
         null,
         null,
         null,
         null,
         null,
         null,
         null,
         null,
         null,
         null,
         null,
         null,
         null,
         null,
         null,
         null,
         null,
         null,
         null,
         null,
         null,
         null,
         null,
         null,
         null,
         null,
         null,
         null,
         null,
         null,
         null,
         null,
         null,
         null,
         null,
         null,
         null,
         null,
         null,
         null,
         null,
         null,
         null,
         null,
         null,
         null,
         null,
         null,
         null,
         null,
         null,
         null,
         null,
         null,
         null,
         null,
         null,
         null,
         null,
         null,
         null,
         null,
         null,
         null,
         null,
         null,
         null,
         null,
         null,
         null,
         null,
         null,
         null,
         null,
         null,
         null,
         null,
         null,
         null,
         null,
         null,
         null,
         null,
         null,
         null,
         null,
         null,
         null,
         null,
         null,
         null,
         null,
         null,
         null,
         null,
         null,
         null,
         null,
         null,
         null,
         null,
         null,
         null,
         null,
         null,
         null,
         null,
         null,
         null,
         null,
         null,
         null,
         null,
         null,
         null,
         null,
         null,
         null,
         null,
         null,
         null,
         null,
         null,
         null,
         null,
         null,
         null,
         null,
         null,
         null,
         null,
         null,
         null,
         null,
         null,
         null,
         null,
         null,
         null,
         null,
         null,
         null,
         null,
         null,
         null,
         null,
         null,
         null,
         null,
         null,
         null,
         null,
         null,
         null,
         null,
         null,
         null,
         null,
         null,
         null,
         null,
         null,
         null,
         null,
         null,
         null,
         null,
         null,
         null,
         null,
         null,
         null,
         null,
         null,
         null,
         null,
         null,
         null,
         null,
         null,
         null,
         null,
         null,
         null,
         null,
         null,
         null,
         null,
         null,
         null,
         null,
         null,
         null,
         null,
         null,
         null,
         null,
         null,
         null,
         null,
         null,
         null,
         null,
         null,
         null,
         null,
         null,
         null,
         null,
         null,
         null,
         null,
         null,
         null,
         null,
         null,
         null,
         null,
         null,
         null,
         null,
         null,
         null,
         null,
         null,
         null,
         null,
         null,
         null,
         null,
         null,
         null,
         null,
         null,
         null,
         null,
         null,
         null,
         null,
         null,
         null,
         null,
         null,
         null,
         null,
         null,
         null,
         null,
         null,
         null,
         null,
         null,
         null,
         null,
         null,
         null,
         null,
         null,
         null,
         null,
         null,
         null,
         null,
         null,
         null,
         null,
         null,
         null,
         null,
         null,
         null,
         null,
         null,
         null,
         null,
         null,
         null,
         null,
         null,
         null,
         null,
         null,
         null,
         null,
         null,
         null,
         null,
         null,
         null,
         null,
         null,
         null,
         null,
         null,
         null,
         null,
         null,
         null,
         null,
         null,
         null,
         null,
         null,
         null,
         null,
         null,
         null,
         null,
         null,
         null,
         null,
         null,
         null,
         null,
         null,
         null,
         null,
         null,
         null,
         null,
         null,
         null,
         null,
         null,
         null,
         null,
         null,
         null,
         null,
         null,
         null,
         null,
         null,
         null,
         null,
         null,
         null,
         null,
         null,
         null,
         null,
         null,
         null,
         null,
         null,
         null,
         null,
         null,
         null,
         null,
         null,
         null,
         null,
         null,
         null,
         null,
         null,
         null,
         null,
         null,
         null,
         null,
         null,
         null,
         null,
         null,
         null,
         null,
         null,
         null,
         null,
         null,
         null,
         null,
         null,
         null,
         null,
         null,
         null,
         null,
         null,
         null,
         null,
         null,
         null,
         null,
         null,
         null,
         null,
         null,
         null,
         null,
         null,
         null,
         null,
         null,
         null,
         null,
         null,
         null,
         null,
         null,
         null,
         null,
         null,
         null,
         null,
         null,
         null,
         null,
         null,
         null,
         null,
         null,
         null,
         null,
         null,
         null,
         null,
         null,
         null,
         null,
         null,
         null,
         null,
         null,
         null,
         null,
         null,
         null,
         null,
         null,
         null,
         null,
         null,
         null,
         null,
         null,
         null,
         null,
         null,
         null,
         null,
         null,
         null,
         null,
         null,
         null,
         null,
         null,
         null,
         null,
         null,
         null,
         null,
         null,
         null,
         null,
         null,
         null,
         null,
         null,
         null,
         null,
         null,
         null,
         null,
         null,
         null,
         null,
         null,
         null,
         null,
         null,
         null,
         null,
         null,
         null,
         null,
         null,
         null,
         null,
         null
        ],
        [
         "2025-02-28 00:00:00",
         "0.019185282522996117",
         "0.053636363636363704",
         "-0.056087551299589644",
         "0.15507796038769484",
         "0.07879308997107781",
         "0.1366503534529635",
         "-0.09468762176906087",
         "0.0025374328494685017",
         "-0.1387667097887021",
         "0.019463587260197368",
         "-0.15575501583949314",
         "-0.0570005368967369",
         "0.05870244720591611",
         "-0.19239239239239236",
         "-0.013242320819112585",
         "-0.08504572989666226",
         "0.050436569080636984",
         "-0.14641047875496327",
         "-0.030287048896255442",
         "0.09595788043478248",
         "0.03545988665314814",
         "-0.16537594353494756",
         "-0.16235408560311282",
         "0.06930882634501256",
         "-0.10686637495792661",
         "0.04115226337448541",
         "0.07813163481953289",
         "-0.15189125295508288",
         "0.07818218788125253",
         "-0.051945188218617155",
         "0.12598425196850394",
         "0.11175993511759952",
         "0.09090179717586655",
         "-0.011152826855123754",
         "0.025682704811443413",
         "0.0793217013523928",
         "-0.059056230573608426",
         "0.08575204115342872",
         "-0.049215406562054254",
         "0.10328461248044873",
         "0.02474576271186435",
         "-0.12353756584419184",
         "0.04325536686959319",
         "-0.0017191361340925804",
         "-0.07866484481748959",
         "-0.19248459602534063",
         "-0.03392350945675915",
         "0.06750403480457523",
         "-0.11925868825078689",
         "0.040163690967294885",
         "0.04262419370726023",
         "0.021082569635682447",
         "0.012060517956173022",
         "-0.18971756263608197",
         "-0.03443048938934601",
         "-0.05403949730700186",
         "-0.004319654427645703",
         "0.03514488537181415",
         "-0.036692369050784435",
         "0.05988943488943477",
         "-0.08913570274636506",
         "0.07224205337412881",
         "0.047169811320754595",
         "-0.2652405231655951",
         "-0.1604350781781101",
         "-0.02383102897241718",
         "-0.09086006508600653",
         "-0.09005702670656668",
         "-0.010707002039429092",
         "0.05877498121395819",
         "-0.06677115987460813",
         "0.01397030089878859",
         "0.011365564037319587",
         "-0.0987029421069282",
         "0.012593401057845677",
         "0.13261991209631185",
         "-0.025482726914488385",
         "-0.030216024063439928",
         "0.03166446434688974",
         "-0.019345032472018908",
         "-0.10515215426333235",
         "-0.12135343238260488",
         "0.07293252156265861",
         "0.1068181818181817",
         "-0.026163675083662907",
         "0.16359773371104813",
         "-0.15832269336738125",
         "-0.078502080443828",
         "0.09102101838008969",
         "0.03327314934227488",
         "-0.015512247803249668",
         "0.047064531780689034",
         "-0.03117702008407286",
         "-0.13516443801951583",
         "-0.00887121443866623",
         "-0.07400926125349994",
         "-0.28293918918918926",
         "-0.002635616222807946",
         "-0.09167577697954088",
         "0.05557261283389625",
         "0.021409186852950235",
         "0.0033381888807964",
         "0.052331471243740824",
         "0.06320798981164955",
         "-0.07506426735218508",
         "0.05002206855965885",
         "0.05382865807429882",
         "0.049760375242174026",
         "0.07851149215614739",
         "0.03455152814478746",
         "0.05792079207920797",
         "-0.018175119734741507",
         "-0.037838974143367565",
         "-0.014431560373078023",
         "0.1217706364209199",
         "0.008715651858128615",
         "0.05155709342560555",
         "0.0659536541889485",
         "-0.04441473559120612",
         "-0.013518733101583691",
         "0.003237883233836003",
         "0.0829955195220824",
         "-0.029314159292035513",
         "-0.1647943196213082",
         "-0.06390471258415331",
         "-0.05403072673916798",
         "-0.037058371735791074",
         "-0.03508503140799757",
         "-0.004569190600522077",
         "0.07014124178470826",
         "-0.026334776334776322",
         "0.05398745519713244",
         "0.03348771929824568",
         "-0.10634249471458779",
         "0.11528194861528185",
         "-0.06725329981143946",
         "0.026736324523663146",
         "-0.16072644721906926",
         "0.008876112136981806",
         "-0.10628809276051732",
         "-0.16244939271255066",
         "0.062170087976539445",
         "0.01773580559714394",
         "-0.03285470917498179",
         "-0.046014890760405325",
         "-0.029340096474215538",
         "0.0065451972404033665",
         "0.04390655783844655",
         "-0.006680299931833611",
         "0.01852851232235997",
         "0.09037673672960445",
         "-0.02410644147682639",
         "-0.02407170294494232",
         "0.0491115278149834",
         "0.06471354166666665",
         "-0.05770735524256643",
         "-0.018063221274460695",
         "-0.10145815463791208",
         "-0.04060462359217554",
         "0.07522283064870705",
         "0.008148148148148016",
         "-0.011456176673567908",
         "0.05052477422504276",
         "0.002982057113975145",
         "-0.0641785302039245",
         "-0.07947976878612717",
         "0.07683769116921568",
         "0.009142221162254494",
         "-0.18829736966451416",
         "-0.1076497561685712",
         "-0.009894271391983844",
         "0.05012034546226829",
         "0.09487999437748185",
         "-0.06774722272810052",
         "0.016431181836493947",
         "0.07386629266012146",
         "0.09240638002773927",
         "0.10499999999999998",
         "0.15799941503363568",
         "0.033280507131537185",
         "-0.009350649350649332",
         "0.04212299915754003",
         "-0.01624840207225997",
         "-0.3384725708139118",
         "-0.026706856938091605",
         "0.006826576143811769",
         "0.03399781540142022",
         "-0.029549848108257337",
         "-0.007437610903462177",
         "-0.12704062845219088",
         "-0.018957345971564066",
         "-0.18708213944603636",
         "-0.025879396984924474",
         "0.09095537863358638",
         "-0.052579365079365004",
         "0.07067803330689948",
         "-0.02200909873355461",
         "0.1254396248534584",
         "0.11255144032921804",
         "-0.089478417266187",
         "0.029567642956764173",
         "-0.010758776896942268",
         "0.11901133125704066",
         "0.060597637248088976",
         "-0.08199620507341165",
         "0.015607580824972045",
         "-0.08826089868077414",
         "-0.01704412794770027",
         "0.01675099474382269",
         "0.007981376787495886",
         "-0.006672058228871736",
         "0.07423655913978489",
         "0.17602880658436204",
         "-0.06708019494904738",
         "0.04373822589892695",
         "-0.028279200499687684",
         "-0.03901493408113532",
         "-0.07156497226516323",
         "-0.050153846153846104",
         "0.013451191391237627",
         "0.12569156293222683",
         "-0.002872077660979966",
         "0.15718592964824118",
         "0.07127957994677403",
         "-0.0651250589900898",
         "0.03471706955129461",
         "-0.12129193235375657",
         "-0.03733190931598618",
         "-0.04840872519220463",
         "-0.04503002001334222",
         "-0.03470975463794146",
         "0.07915942486964767",
         "-0.12155740999030762",
         "-0.07778876649728883",
         "-0.05857960518631",
         "-0.04244186046511633",
         "-0.10990570820237244",
         "0.03568297595071668",
         "-0.13365431768534608",
         "0.018598549158820754",
         "-0.33147506403495564",
         "-0.008899676375404453",
         "-0.09616204690831553",
         "-0.021948415834470936",
         "0.22130725681935148",
         "0.08383907902146026",
         "-0.012749315604223654",
         "-0.06062693765070615",
         "0.012942656839834532",
         "-0.04429717474712258",
         "0.020498412328972204",
         "0.0022207456109673007",
         "-0.09568382735309411",
         "0.09181380417335472",
         "-0.062375844259038526",
         "-0.08270158511371462",
         "-0.08577749232855192",
         "0.084587578047979",
         "0.09820512820512817",
         "-0.009913954358398924",
         "0.038439472174412126",
         "-0.03982444733420021",
         "0.014315428851095158",
         "0.10850164396430251",
         "0.04423676012461075",
         "-0.036707452725250334",
         "-0.1055228483319316",
         "0.09263676232976836",
         "-0.015590200445434244",
         "-0.013828238719068353",
         "0.02915549597855227",
         "0.051589876703439286",
         "0.1283765712757421",
         "-0.027828875996415148",
         "0.004963971176941584",
         "-0.05317705120296112",
         "-0.13463463463463465",
         "-0.024438140955705845",
         "-0.13807982740021585",
         "-0.08491163838625648",
         "-0.08846388296251151",
         "-0.08021305350186825",
         "0.13506682448093899",
         "0.046915628082130345",
         "-0.009123583079900466",
         "-0.027173560859704016",
         "0.014277355178466955",
         "-0.043839409321642986",
         "-0.11731047802993722",
         "0.01492734478203439",
         "-0.047306698469489206",
         "0.008120649651972123",
         "-0.010489803441862011",
         "0.030677372863907815",
         "-0.1261841091420025",
         "-0.03489452493203482",
         "0.09664330505348584",
         "-0.11207086672057642",
         "-0.05171543895055497",
         "0.03759249590407432",
         "-0.11176470588235299",
         "0.06966204842677715",
         "0.06984291834350254",
         "0.06799445791479042",
         "0.0765195460277428",
         "0.013212948689715898",
         "-0.06648451730418936",
         "-0.030441974520444504",
         "-0.0038145879089122037",
         "-0.06722171733458415",
         "0.08397790055248633",
         "0.026194651468654184",
         "-0.04353587433142192",
         "0.10184821077467543",
         "-0.21461187214611877",
         "-0.038511856091578034",
         "-0.029928159530942966",
         "0.11945205479452059",
         "0.107604759441283",
         "-0.041357453284591394",
         "0.12194621227673985",
         "0.009010091302258605",
         "-0.03843097594452061",
         "-0.1423449264969523",
         "-0.06186467767714432",
         "0.031921124560718495",
         "-0.09613057591022167",
         "0.03375689283145533",
         "0.0053436968666504825",
         "-0.18255528255528253",
         "0.003890413202833898",
         "0.002808988764045006",
         "0.017780938833570348",
         "0.019905213270142275",
         "-0.019424259362772478",
         "0.03289986996098837",
         "0.09410187667560344",
         "-0.04509127236399968",
         "-0.03740697218958089",
         "-0.018434410900347364",
         "-0.052393949966137776",
         "-0.19858906525573206",
         "0.07038853850346483",
         "0.0403931040226535",
         "0.06120115572997942",
         "0.04694533762057884",
         "-0.049081407251764575",
         "-0.046433920958635744",
         "-0.10106992739778387",
         "0.033137799732427586",
         "-0.02352111019640124",
         "0.04569272689163695",
         "0.04408945686900956",
         "-0.04493655138094055",
         "-0.018720748829953116",
         "0.04791666666666661",
         "-0.15427951209427326",
         "-0.03282828282828287",
         "0.0020220069594658607",
         "0.03258865632794716",
         "0.04411764705882337",
         "-0.05450816773919798",
         "0.0270874246631001",
         "0.057380998265561756",
         "-0.19790020320614132",
         "-0.09143518518518523",
         "0.01844847036963304",
         "-0.0033936651583710287",
         "0.1926267281105991",
         "0.10027996945787732",
         "0.06416743330266805",
         "0.007988380537400142",
         "0.07992722862340806",
         "0.04729200554250257",
         "0.14429475734458697",
         "0.039161425576520026",
         "-0.04686982444518062",
         "-0.02860904955709842",
         "0.017220584293754948",
         "-0.09228335384074526",
         "-0.124005784526392",
         "-0.09113514138668832",
         "-0.1559767237736095",
         "0.06008583690987135",
         "0.03132997285769701",
         "0.08586303564277142",
         "-0.0819681861348528",
         "0.04374084919472909",
         "0.06765033407572374",
         "0.038277511961722466",
         "-0.03774350649350644",
         "0.09291280490616494",
         "-0.011262596324836949",
         "-0.11083802426068334",
         "-0.08797653958944285",
         "0.031318464245950306",
         "0.05838383838383843",
         "0.015373925128115973",
         "-0.0680127523910734",
         "-0.07689422355588904",
         "0.023647417579256258",
         "0.1029560639805629",
         "-0.12832894351770552",
         "-0.09787499999999993",
         "0.03426017874875864",
         "-0.03856382978723405",
         "0.05759651307596503",
         "-0.018662072925638817",
         "-0.1369829977089113",
         "-0.08702056206916864",
         "0.011475318293499903",
         "0.07034395490624634",
         "-0.24898602974312767",
         "-0.01218424962852882",
         "0.03405370006548791",
         "-0.03936364916232571",
         "0.2587786259541984",
         "0.06956521739130439",
         "0.011396939107782389",
         "-0.017486090609742155",
         "0.075501485884101",
         "-0.023518992324345622",
         "0.05358814352574104",
         "-0.006299569453886322",
         "-0.013033811239745563",
         "-0.12032473180632075",
         "-0.12978610032731985",
         "0.035929786066922764",
         "0.040954247482597905",
         "-0.0002404038785158713",
         "0.1576168605399837",
         "-0.09579199452617182",
         "0.1426877257290713",
         "0.17109953386344956",
         "0.02499999999999991",
         "-0.09912261619897034",
         "0.007216474683668039",
         "-0.26348202396804266",
         "-0.051213403575438354",
         "-0.27587740978744435",
         "0.06164346460105086",
         "-0.023264932688537465",
         "-0.11508155583437885",
         "0.01821192052980125",
         "-0.02494831150930399",
         "0.01024132886044904",
         "0.05428664654539528",
         "-0.03975453575240118",
         "-0.026669466610667714",
         "0.01128581876205037",
         "0.08585590369976992",
         "0.08241494968854801",
         "-0.01841774801172047",
         "-0.11110032755064891",
         "-0.004439242907300467",
         "-0.1136621315192744",
         "0.04202048498643096",
         "-0.1526792074505975",
         "-0.12448155726372845",
         "-0.07058761137038605",
         "-0.04004620716211005",
         "-0.017067669172932454",
         "0.14498510427010936",
         "-0.035109778508559786",
         "0.10641860465116282",
         "0.032946006123017124",
         "0.09418634171109419",
         "0.03922630393346038",
         "-0.18173758865248224",
         "0.09136714813570723",
         "0.06117612638970149",
         "-0.09790260806128026",
         "0.07485391900060434",
         "-0.10850327048864938",
         "0.03891050583657596",
         "0.004584352078239595",
         "0.09770114942528751",
         "0.0568419141015164",
         "-0.09179743910657567",
         "-0.006091370558375719",
         "0.1247801875732708",
         "-0.3197482067047285",
         "-0.24873330262551818",
         "-0.01698236446766821",
         "-0.03066374630987523",
         "0.04961212339888155",
         "0.03060094366816868",
         "0.02843983880253309",
         "0.07291666666666652",
         "0.055224121251209235",
         "0.1982375478927203",
         "-0.19617798642649387",
         "-0.04713189623675562",
         "-0.06602143104044245",
         "-0.021416032767700433"
        ],
        [
         "2025-03-31 00:00:00",
         "-0.05324909747292417",
         "0.0716134598792062",
         "0.015458937198067568",
         "0.031740240788033613",
         "-0.038837765379320266",
         "0.0023441611251973082",
         "-0.10461979913916786",
         "-0.12547883983947472",
         "0.02884037652713789",
         "0.01571206723303198",
         "-0.08552220137585986",
         "-0.06715166851178223",
         "-0.13977100885720461",
         "-0.002231036192364977",
         "-0.3190370780298838",
         "-0.06503959496300149",
         "-0.0953451985135928",
         "-0.15061754798695393",
         "0.013596457151736407",
         "-0.002789400278940146",
         "0.03976901832789359",
         "-0.09184871975569664",
         "-0.09284635930786211",
         "0.07466427931960617",
         "-0.10373092142453366",
         "-0.04150197628458496",
         "-0.011421819614021222",
         "-0.2648083623693379",
         "0.030363036303630464",
         "-0.10602737905369475",
         "0.04822763443453093",
         "0.05826281490127405",
         "0.08494520850187559",
         "-0.09899497487437181",
         "-0.0906497622820921",
         "0.011328961890540779",
         "-0.015165165165165084",
         "-0.12340259062853176",
         "-0.0500825206301575",
         "-0.024516034415330568",
         "-0.08150016539861071",
         "-0.0819257291073574",
         "-0.08630221130221138",
         "0.03519535033903787",
         "0.017161016949152508",
         "-0.16732939279957004",
         "0.008947039299629589",
         "0.01610464734108996",
         "-0.0452572845629261",
         "-0.03061742496351305",
         "0.09154568695766696",
         "-0.05110973560880716",
         "-0.05319997872000848",
         "-0.00473081653893459",
         "-0.014352993944830694",
         "-0.011766938698045126",
         "-0.09479392624728855",
         "-0.05711073636874642",
         "-0.16312448247308853",
         "-0.008113590263691739",
         "0.015652019686959617",
         "0.12809131261889672",
         "-0.18129240351462572",
         "-0.08146025041484395",
         "-0.05052631578947364",
         "-0.026049822064056927",
         "-0.0320112908834298",
         "-0.1326631918590221",
         "-0.023363683215942177",
         "-0.08155884856688889",
         "-0.03762176687940888",
         "-0.028037383177570208",
         "0.02297886615229805",
         "-0.1604573033144462",
         "0.00514053561064598",
         "0.0494347899443226",
         "0.03005795929370536",
         "-0.052728041731284536",
         "0.07348197343453511",
         "-0.07862477103001264",
         "-0.10067340067340069",
         "-0.03542335225870141",
         "0.04539543681286218",
         "0.0281998631074607",
         "-0.0805998125585754",
         "0.030888618381010424",
         "0.015289421157684613",
         "-0.24744130042143286",
         "-0.014186683862647098",
         "-0.003494757863205189",
         "-0.10595861381201699",
         "0.0640253320976214",
         "-0.06086537302639505",
         "-0.18386961972419547",
         "-0.021604938271604923",
         "-0.04113970053786886",
         "0.11444837063211644",
         "0.09682890273724065",
         "0.04384456671251735",
         "0.053810354857475096",
         "0.007675654398740406",
         "-0.08946827173189764",
         "0.013642489754380094",
         "0.05465893329970983",
         "-0.06966833425977392",
         "0.05783242258652099",
         "-0.009982014388489224",
         "0.06524202687388692",
         "-0.0006088897909478641",
         "-0.009493975903614449",
         "-0.03743565746373423",
         "-0.11207004377736096",
         "-0.10487218702206691",
         "-0.058443634503484776",
         "0.005757618312034918",
         "-0.08196327853114127",
         "0.027750356476911264",
         "0.02842809364548482",
         "-0.08192134307477061",
         "0.044244322631166844",
         "0.05920322743318196",
         "0.08934200157604422",
         "0.04569800569800586",
         "-0.19523438903191037",
         "-0.06671830050896221",
         "0.0326642335766425",
         "-0.08713858424725818",
         "-0.0007939028262939907",
         "0.039081967213114854",
         "-0.09806315026558965",
         "0.07076695072248973",
         "0.10765143464399585",
         "-0.14867727741865389",
         "0.002523460294929336",
         "0.034181002243829584",
         "-0.013284559106661487",
         "0.036416242641923446",
         "0.034419799837706266",
         "-0.023794172091765597",
         "-0.2747837658017298",
         "-0.09728096676737163",
         "0.03257868580894541",
         "-0.22722643431028622",
         "0.005787619526924859",
         "-0.08335465711361312",
         "-0.12546749321174244",
         "-0.13268892794376097",
         "0.1853599352925317",
         "0.030332143837496384",
         "-0.009713882020487397",
         "-0.06179167262257257",
         "-0.11616441112843989",
         "-0.0837050642875885",
         "0.03813090475785175",
         "-0.08670661611838071",
         "0.10919659539132232",
         "-0.0995401124169647",
         "-0.07326469384972045",
         "0.04618473895582342",
         "-0.05758150254637362",
         "0.08229243203526826",
         "0.012007819044959511",
         "0.11926889714993805",
         "0.09594839750050399",
         "-0.09842940547652335",
         "0.08233036804465366",
         "-0.02084526400183262",
         "0.010241058767922029",
         "-0.18094498884253418",
         "-0.00668841761827077",
         "-0.09868231964802898",
         "-0.034919778886342234",
         "-0.016047758128189482",
         "-0.07833561242430154",
         "0.028622388313232383",
         "0.0005804672761573482",
         "-0.01428344707189333",
         "0.04253393665158356",
         "-0.1508385532430795",
         "0.024625085207907293",
         "-0.02667802831672783",
         "0.06826551693164484",
         "-0.08945730602195401",
         "0.14336043360433592",
         "-0.015376618876424053",
         "-0.022365944814058847",
         "0.024032747920242903",
         "-0.0720925820527415",
         "-0.07272727272727264",
         "0.05005624296962874",
         "-0.09822866344605463",
         "-0.07159641650756354",
         "0.04255867939128177",
         "-0.06304892019177732",
         "0.05026178010471183",
         "-0.1087862234978243",
         "-0.07995976866985166",
         "-0.01736111111111116",
         "-0.0251525799889033",
         "-0.04938271604938271",
         "0.02573828230831765",
         "-0.0760160274756726",
         "0.022206430982412595",
         "-0.051544140130170835",
         "-0.15768983785519342",
         "-0.028905964141968554",
         "-0.06977598237238336",
         "0.07909738717339665",
         "-0.032998357329210526",
         "-0.013691850874298916",
         "-0.042743741095053966",
         "-0.04596412556053808",
         "-0.019770798705275205",
         "-0.06990881458966569",
         "0.03366554186612247",
         "-0.12212955374503853",
         "-0.03268671477952623",
         "0.12814234410708458",
         "-0.10301263362487856",
         "-0.037921880925293916",
         "-0.055598218399631305",
         "0.05190391151564033",
         "-0.009727288518325605",
         "0.07244527997851469",
         "-0.221100454316002",
         "-0.14119112318840565",
         "-0.02555608140085186",
         "-0.07592032274331828",
         "-0.005354878106064054",
         "0.0806845965770171",
         "-0.11903285802851815",
         "-0.05029282576866767",
         "-0.10947549718776062",
         "-0.02152207676946971",
         "-0.0821390905142999",
         "-0.08864602307225256",
         "0.16209135436837885",
         "-0.03925785271441973",
         "-0.06874903514640052",
         "-0.06049700734904173",
         "-0.10592742844264136",
         "-0.17619047619047623",
         "-0.0560273649445624",
         "-0.035479487273662014",
         "-0.04298356510745893",
         "-0.004214050684061554",
         "-0.014973855173506578",
         "-0.05133846718005142",
         "-0.05323868677905941",
         "-0.008759124087591164",
         "0.0002443633520134991",
         "-0.13588065951321648",
         "-0.12765957446808518",
         "0.02469861805351381",
         "-0.06620762711864403",
         "-0.07652677900611782",
         "-0.05635781750058555",
         "0.00496909465519324",
         "-0.06479103432173705",
         "-0.07311543548082355",
         "-0.0002762430939228233",
         "-0.040968342644320366",
         "-0.004945717732207644",
         "0.01610169491525415",
         "0.020883054892601338",
         "-0.07678983833718245",
         "-0.06117971541402867",
         "0.0014787691007676074",
         "-0.03891402714932135",
         "0.052767527675276815",
         "-0.009117551286226044",
         "0.044276457883369424",
         "0.008295804693055242",
         "0.015525690165445472",
         "-0.07289674952198844",
         "-0.05264529580401345",
         "0.027568922305764465",
         "-0.1359874748378438",
         "-0.08218606591572797",
         "0.03823959375240449",
         "-0.04054167014962795",
         "-0.05730337078651693",
         "-0.1028860671496693",
         "-0.003018948720693748",
         "-0.0891462053571429",
         "-0.00812665141994362",
         "0.06045921310718816",
         "-0.061977155727155675",
         "-0.22578704083586343",
         "-0.08369126643238312",
         "-0.06765074066346755",
         "-0.147295742232451",
         "-0.04235322009788145",
         "-0.02989745638567054",
         "0.12220550858447021",
         "-0.15065073988233202",
         "0.0260258997645475",
         "-0.01036966510742221",
         "-0.07501995211492418",
         "-0.0489146466311533",
         "-0.01608325449385062",
         "-0.003631521607553534",
         "-0.004368401892974161",
         "0.01310284435507425",
         "0.05111985755786708",
         "-0.023473158009128414",
         "-0.026991869918699174",
         "-0.1374438790781204",
         "-0.06834532374100721",
         "-0.07213684078194726",
         "-0.17753992524634732",
         "-0.07198547474100181",
         "-0.05440943096803452",
         "-0.0032119914346894207",
         "-0.08430232558139528",
         "-0.028999064546304965",
         "0.09388283740701375",
         "-0.006852667645619204",
         "0.05635995640666347",
         "-0.0507847662067723",
         "0.07081427264409879",
         "-0.07590189308250983",
         "-0.12350687401397353",
         "0.12918060200668902",
         "-0.005474535459543017",
         "-0.09696339040771929",
         "-0.00016423805961696125",
         "-0.11841922167076391",
         "-0.08359507127325438",
         "-0.11992786293958524",
         "-0.04898221424492122",
         "0.12698412698412698",
         "-0.04891684136967167",
         "-0.05916976456009915",
         "0.010260795211628926",
         "-0.20080574090394065",
         "-0.017642734623866674",
         "-0.040753245518094006",
         "-0.036215666327568674",
         "-0.1049718744329522",
         "0.10887079308701852",
         "-0.16549295774647876",
         "-0.12460900560122201",
         "-0.1324047390329811",
         "0.0429078943536878",
         "0.010647010647010458",
         "-0.06260623229461759",
         "0.0018124697921699795",
         "-0.13517534537725828",
         "-0.01165454726566395",
         "-0.15807539443574614",
         "0.03427540589296463",
         "0.05140758873928997",
         "-0.08414964568570227",
         "-0.03418124006359302",
         "0.025560920193126835",
         "-0.053046507364175266",
         "-0.09203655352480411",
         "-0.07072129147308648",
         "-0.10392270125505443",
         "0.052816901408450745",
         "-0.09073910637088445",
         "0.017208413001912115",
         "-0.004510867088896031",
         "-0.08163265306122447",
         "-0.07133757961783438",
         "-0.023001238026975956",
         "-0.04124101399924329",
         "0.022217928902627415",
         "-0.047883414295628035",
         "0.029284633671925686",
         "-0.08256484149855903",
         "-0.052448337825696356",
         "-0.01967326277036363",
         "0.0035815602836879457",
         "-0.09788573273079404",
         "-0.02971329278887913",
         "0.0141712877387552",
         "-0.014261247612146755",
         "-0.004647560030983766",
         "-0.0038519741367450955",
         "-0.022650633072469173",
         "-0.020991410853907433",
         "-0.02139965297860047",
         "-0.0039852620497782265",
         "-0.18588183226377508",
         "-0.10189435572509209",
         "0.017183938278099165",
         "-0.03833116036505868",
         "-0.09232332484185823",
         "-0.08350906790383805",
         "0.02168593367648297",
         "-0.04140972935936971",
         "-0.056620597414177465",
         "-0.07683195126078868",
         "-0.10019153752394216",
         "0.031303683909142954",
         "0.008691189050470616",
         "-0.08929589509692126",
         "-0.16521739130434787",
         "-0.04803837074230899",
         "0.009683340982101774",
         "-0.09900956857478604",
         "-0.05099071636414032",
         "0.00336053768602973",
         "-0.015717339368791605",
         "-0.1664213521734863",
         "-0.15447630193095385",
         "-0.0029341903031995242",
         "-0.14371450696954058",
         "-0.03610566704391749",
         "-0.10752861518620016",
         "-0.030453045304530524",
         "-0.016847172081829176",
         "0.07129286166651583",
         "-0.012193334701175451",
         "-0.018799272286234014",
         "0.024056130972268663",
         "0.08113329040566652",
         "-0.11152201548595864",
         "-0.15300923927122012",
         "-0.09775269575733148",
         "-0.07396164951506623",
         "0.033704278026087886",
         "-0.03609622206685825",
         "-0.1275543836519447",
         "-0.06217197340797753",
         "-0.006619009796134501",
         "-0.08251639291047208",
         "-0.023725553061878846",
         "-0.01104972375690616",
         "-0.13100643208475216",
         "-0.022313425794886266",
         "-0.1757199719035355",
         "-0.006196708308546461",
         "-0.1600128783000644",
         "-0.0336103452293115",
         "0.0409792843691148",
         "-0.24813398871290737",
         "-0.11543450064850835",
         "-0.08311648553497641",
         "-0.03318613675899906",
         "-0.05928614640048402",
         "-0.004516711833784992",
         "-0.04744133446423515",
         "0.011768578115857187",
         "0.023095671012418162",
         "-0.08794109474854128",
         "-0.11218985976267537",
         "-0.04444225301185012",
         "0.04026736224323435",
         "-0.0002213368747232547",
         "-0.09978678038379529",
         "0.0004913200131018147",
         "-0.04236085775669862",
         "-0.263937746508901",
         "-0.07594724019154842",
         "-0.024318096898742092",
         "0.1027244399528382",
         "0.07218259629101298",
         "-0.3774568792619334",
         "0.010250133863688449",
         "-0.006071118820468402",
         "-0.023155573376102634",
         "0.0672187657642509",
         "0.002391297026034689",
         "0.05243619489559159",
         "0.010483753308739185",
         "-0.05633802816901401",
         "0.004001231148045514",
         "-0.033773538088279875",
         "-0.05664954914884146",
         "0.02146405473802604",
         "-0.021633577902460233",
         "0.04588014981273414",
         "-0.10972518000202813",
         "-0.06369982547993025",
         "-0.005455795171406486",
         "-0.02324163884030317",
         "-0.083375893769152",
         "-0.0019542700801249424",
         "-0.03641215460101577",
         "-0.17371755569180458",
         "-0.027242524916943567",
         "-0.11454956282542494",
         "0.027157098659333023",
         "-0.005005152362726251",
         "-0.06515897895208234",
         "-0.018169209431345146",
         "-0.08732523493009392",
         "0.006331137686256927",
         "-0.10312648785906997",
         "0.08493098159509227",
         "-0.07735011102886746",
         "-0.015486725663716783"
        ]
       ],
       "shape": {
        "columns": 495,
        "rows": 3
       }
      },
      "text/html": [
       "<div>\n",
       "<style scoped>\n",
       "    .dataframe tbody tr th:only-of-type {\n",
       "        vertical-align: middle;\n",
       "    }\n",
       "\n",
       "    .dataframe tbody tr th {\n",
       "        vertical-align: top;\n",
       "    }\n",
       "\n",
       "    .dataframe thead th {\n",
       "        text-align: right;\n",
       "    }\n",
       "</style>\n",
       "<table border=\"1\" class=\"dataframe\">\n",
       "  <thead>\n",
       "    <tr style=\"text-align: right;\">\n",
       "      <th>SecurityNm</th>\n",
       "      <th>3M CO; COM NONE; CONS</th>\n",
       "      <th>A E S CORP; COM NONE; CONS</th>\n",
       "      <th>A P A CORP; COM NONE; CONS</th>\n",
       "      <th>A T &amp; T INC; COM NONE; CONS</th>\n",
       "      <th>ABBOTT LABORATORIES; COM NONE; CONS</th>\n",
       "      <th>ABBVIE INC; COM NONE; CONS</th>\n",
       "      <th>ACCENTURE PLC IRELAND; COM A; CONS</th>\n",
       "      <th>ADOBE INC; COM NONE; CONS</th>\n",
       "      <th>ADVANCED MICRO DEVICES INC; COM NONE; CONS</th>\n",
       "      <th>AFLAC INC; COM NONE; CONS</th>\n",
       "      <th>...</th>\n",
       "      <th>WILLIAMS COS; COM NONE; CONS</th>\n",
       "      <th>WILLIS TOWERS WATSON PUB LTD CO; COM NONE; CONS</th>\n",
       "      <th>WYNN RESORTS LTD; COM NONE; CONS</th>\n",
       "      <th>X C E L ENERGY INC; COM NONE; CONS</th>\n",
       "      <th>XYLEM INC; COM NONE; CONS</th>\n",
       "      <th>YUM BRANDS INC; COM NONE; CONS</th>\n",
       "      <th>ZEBRA TECHNOLOGIES CORP; COM A; CONS</th>\n",
       "      <th>ZIMMER BIOMET HOLDINGS INC; COM NONE; CONS</th>\n",
       "      <th>ZIONS BANCORPORATION N A; COM NONE; CONS</th>\n",
       "      <th>ZOETIS INC; COM A; CONS</th>\n",
       "    </tr>\n",
       "    <tr>\n",
       "      <th>DlyCalDt</th>\n",
       "      <th></th>\n",
       "      <th></th>\n",
       "      <th></th>\n",
       "      <th></th>\n",
       "      <th></th>\n",
       "      <th></th>\n",
       "      <th></th>\n",
       "      <th></th>\n",
       "      <th></th>\n",
       "      <th></th>\n",
       "      <th></th>\n",
       "      <th></th>\n",
       "      <th></th>\n",
       "      <th></th>\n",
       "      <th></th>\n",
       "      <th></th>\n",
       "      <th></th>\n",
       "      <th></th>\n",
       "      <th></th>\n",
       "      <th></th>\n",
       "      <th></th>\n",
       "    </tr>\n",
       "  </thead>\n",
       "  <tbody>\n",
       "    <tr>\n",
       "      <th>2025-01-31</th>\n",
       "      <td>NaN</td>\n",
       "      <td>NaN</td>\n",
       "      <td>NaN</td>\n",
       "      <td>NaN</td>\n",
       "      <td>NaN</td>\n",
       "      <td>NaN</td>\n",
       "      <td>NaN</td>\n",
       "      <td>NaN</td>\n",
       "      <td>NaN</td>\n",
       "      <td>NaN</td>\n",
       "      <td>...</td>\n",
       "      <td>NaN</td>\n",
       "      <td>NaN</td>\n",
       "      <td>NaN</td>\n",
       "      <td>NaN</td>\n",
       "      <td>NaN</td>\n",
       "      <td>NaN</td>\n",
       "      <td>NaN</td>\n",
       "      <td>NaN</td>\n",
       "      <td>NaN</td>\n",
       "      <td>NaN</td>\n",
       "    </tr>\n",
       "    <tr>\n",
       "      <th>2025-02-28</th>\n",
       "      <td>0.019185</td>\n",
       "      <td>0.053636</td>\n",
       "      <td>-0.056088</td>\n",
       "      <td>0.155078</td>\n",
       "      <td>0.078793</td>\n",
       "      <td>0.136650</td>\n",
       "      <td>-0.094688</td>\n",
       "      <td>0.002537</td>\n",
       "      <td>-0.138767</td>\n",
       "      <td>0.019464</td>\n",
       "      <td>...</td>\n",
       "      <td>0.049612</td>\n",
       "      <td>0.030601</td>\n",
       "      <td>0.028440</td>\n",
       "      <td>0.072917</td>\n",
       "      <td>0.055224</td>\n",
       "      <td>0.198238</td>\n",
       "      <td>-0.196178</td>\n",
       "      <td>-0.047132</td>\n",
       "      <td>-0.066021</td>\n",
       "      <td>-0.021416</td>\n",
       "    </tr>\n",
       "    <tr>\n",
       "      <th>2025-03-31</th>\n",
       "      <td>-0.053249</td>\n",
       "      <td>0.071613</td>\n",
       "      <td>0.015459</td>\n",
       "      <td>0.031740</td>\n",
       "      <td>-0.038838</td>\n",
       "      <td>0.002344</td>\n",
       "      <td>-0.104620</td>\n",
       "      <td>-0.125479</td>\n",
       "      <td>0.028840</td>\n",
       "      <td>0.015712</td>\n",
       "      <td>...</td>\n",
       "      <td>0.027157</td>\n",
       "      <td>-0.005005</td>\n",
       "      <td>-0.065159</td>\n",
       "      <td>-0.018169</td>\n",
       "      <td>-0.087325</td>\n",
       "      <td>0.006331</td>\n",
       "      <td>-0.103126</td>\n",
       "      <td>0.084931</td>\n",
       "      <td>-0.077350</td>\n",
       "      <td>-0.015487</td>\n",
       "    </tr>\n",
       "  </tbody>\n",
       "</table>\n",
       "<p>3 rows × 495 columns</p>\n",
       "</div>"
      ],
      "text/plain": [
       "SecurityNm  3M CO; COM NONE; CONS  A E S CORP; COM NONE; CONS  \\\n",
       "DlyCalDt                                                        \n",
       "2025-01-31                    NaN                         NaN   \n",
       "2025-02-28               0.019185                    0.053636   \n",
       "2025-03-31              -0.053249                    0.071613   \n",
       "\n",
       "SecurityNm  A P A CORP; COM NONE; CONS  A T & T INC; COM NONE; CONS  \\\n",
       "DlyCalDt                                                              \n",
       "2025-01-31                         NaN                          NaN   \n",
       "2025-02-28                   -0.056088                     0.155078   \n",
       "2025-03-31                    0.015459                     0.031740   \n",
       "\n",
       "SecurityNm  ABBOTT LABORATORIES; COM NONE; CONS  ABBVIE INC; COM NONE; CONS  \\\n",
       "DlyCalDt                                                                      \n",
       "2025-01-31                                  NaN                         NaN   \n",
       "2025-02-28                             0.078793                    0.136650   \n",
       "2025-03-31                            -0.038838                    0.002344   \n",
       "\n",
       "SecurityNm  ACCENTURE PLC IRELAND; COM A; CONS  ADOBE INC; COM NONE; CONS  \\\n",
       "DlyCalDt                                                                    \n",
       "2025-01-31                                 NaN                        NaN   \n",
       "2025-02-28                           -0.094688                   0.002537   \n",
       "2025-03-31                           -0.104620                  -0.125479   \n",
       "\n",
       "SecurityNm  ADVANCED MICRO DEVICES INC; COM NONE; CONS  \\\n",
       "DlyCalDt                                                 \n",
       "2025-01-31                                         NaN   \n",
       "2025-02-28                                   -0.138767   \n",
       "2025-03-31                                    0.028840   \n",
       "\n",
       "SecurityNm  AFLAC INC; COM NONE; CONS  ...  WILLIAMS COS; COM NONE; CONS  \\\n",
       "DlyCalDt                               ...                                 \n",
       "2025-01-31                        NaN  ...                           NaN   \n",
       "2025-02-28                   0.019464  ...                      0.049612   \n",
       "2025-03-31                   0.015712  ...                      0.027157   \n",
       "\n",
       "SecurityNm  WILLIS TOWERS WATSON PUB LTD CO; COM NONE; CONS  \\\n",
       "DlyCalDt                                                      \n",
       "2025-01-31                                              NaN   \n",
       "2025-02-28                                         0.030601   \n",
       "2025-03-31                                        -0.005005   \n",
       "\n",
       "SecurityNm  WYNN RESORTS LTD; COM NONE; CONS  \\\n",
       "DlyCalDt                                       \n",
       "2025-01-31                               NaN   \n",
       "2025-02-28                          0.028440   \n",
       "2025-03-31                         -0.065159   \n",
       "\n",
       "SecurityNm  X C E L ENERGY INC; COM NONE; CONS  XYLEM INC; COM NONE; CONS  \\\n",
       "DlyCalDt                                                                    \n",
       "2025-01-31                                 NaN                        NaN   \n",
       "2025-02-28                            0.072917                   0.055224   \n",
       "2025-03-31                           -0.018169                  -0.087325   \n",
       "\n",
       "SecurityNm  YUM BRANDS INC; COM NONE; CONS  \\\n",
       "DlyCalDt                                     \n",
       "2025-01-31                             NaN   \n",
       "2025-02-28                        0.198238   \n",
       "2025-03-31                        0.006331   \n",
       "\n",
       "SecurityNm  ZEBRA TECHNOLOGIES CORP; COM A; CONS  \\\n",
       "DlyCalDt                                           \n",
       "2025-01-31                                   NaN   \n",
       "2025-02-28                             -0.196178   \n",
       "2025-03-31                             -0.103126   \n",
       "\n",
       "SecurityNm  ZIMMER BIOMET HOLDINGS INC; COM NONE; CONS  \\\n",
       "DlyCalDt                                                 \n",
       "2025-01-31                                         NaN   \n",
       "2025-02-28                                   -0.047132   \n",
       "2025-03-31                                    0.084931   \n",
       "\n",
       "SecurityNm  ZIONS BANCORPORATION N A; COM NONE; CONS  ZOETIS INC; COM A; CONS  \n",
       "DlyCalDt                                                                       \n",
       "2025-01-31                                       NaN                      NaN  \n",
       "2025-02-28                                 -0.066021                -0.021416  \n",
       "2025-03-31                                 -0.077350                -0.015487  \n",
       "\n",
       "[3 rows x 495 columns]"
      ]
     },
     "execution_count": 23,
     "metadata": {},
     "output_type": "execute_result"
    }
   ],
   "source": [
    "pivot_df.resample(\"ME\").max()\n",
    "\n",
    "pivot_df.resample(\"ME\").asfreq().pct_change()\n"
   ]
  },
  {
   "attachments": {},
   "cell_type": "markdown",
   "metadata": {},
   "source": [
    "We can use `resample()` to help us calculate returns for different periods. When we calculated daily returns we took the last price on the day and the last price on the day before.\n",
    "\n",
    "For other periods we apply the same thinking. For monthly returns, for example, we take the last price of the month and the last price of the month before. We'll need `last()` to make it work."
   ]
  },
  {
   "cell_type": "code",
   "execution_count": 73,
   "metadata": {},
   "outputs": [],
   "source": []
  },
  {
   "attachments": {},
   "cell_type": "markdown",
   "metadata": {},
   "source": [
    "There are many possibilities for resampling, here are a few:\n",
    "\n",
    "- **W** - Weekly\n",
    "- **D** - Daily (calendar days)\n",
    "- **QE** - Quarterly (quarter end)\n",
    "- **YE** - Annually"
   ]
  },
  {
   "attachments": {},
   "cell_type": "markdown",
   "metadata": {},
   "source": [
    "### Exercise: Losing Days\n",
    "\n",
    "Resample your *trading volume* pivot df to calendar days. Do you need to do some cleaning? What do you propose?"
   ]
  },
  {
   "cell_type": "code",
   "execution_count": 74,
   "metadata": {},
   "outputs": [],
   "source": [
    "## YOUR CODE GOES HERE"
   ]
  }
 ],
 "metadata": {
  "kernelspec": {
   "display_name": "Python 3",
   "language": "python",
   "name": "python3"
  },
  "language_info": {
   "codemirror_mode": {
    "name": "ipython",
    "version": 3
   },
   "file_extension": ".py",
   "mimetype": "text/x-python",
   "name": "python",
   "nbconvert_exporter": "python",
   "pygments_lexer": "ipython3",
   "version": "3.12.1"
  }
 },
 "nbformat": 4,
 "nbformat_minor": 2
}
